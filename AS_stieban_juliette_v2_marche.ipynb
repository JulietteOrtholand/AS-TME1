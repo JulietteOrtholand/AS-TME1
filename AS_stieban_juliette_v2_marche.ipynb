{
 "cells": [
  {
   "cell_type": "markdown",
   "metadata": {},
   "source": [
    "# AS - TME2\n",
    "---\n",
    "2018-2019\n",
    "\n",
    "BINOME : Juliette ORTHOLAND, Stieban FERNANDEZ"
   ]
  },
  {
   "cell_type": "markdown",
   "metadata": {},
   "source": [
    "## Modèle linéaire"
   ]
  },
  {
   "cell_type": "markdown",
   "metadata": {},
   "source": [
    "Librairies utiles"
   ]
  },
  {
   "cell_type": "code",
   "execution_count": 1,
   "metadata": {},
   "outputs": [],
   "source": [
    "import pandas as pd\n",
    "import numpy as np\n",
    "import torch\n",
    "from torchvision import datasets, transforms\n",
    "import matplotlib.pyplot as plt"
   ]
  },
  {
   "cell_type": "markdown",
   "metadata": {},
   "source": [
    "Implémentation du module et du coût"
   ]
  },
  {
   "cell_type": "code",
   "execution_count": 2,
   "metadata": {},
   "outputs": [],
   "source": [
    "class Module:\n",
    "    def forward(self, x):\n",
    "        ## Calcule la sortie\n",
    "        pass\n",
    "    \n",
    "    def  backward_update_gradient(self, x, delta):\n",
    "        ## Gradient du module par  rapport  aux parametres\n",
    "        ## et  mise a jour du  gradient\n",
    "        pass\n",
    "    \n",
    "    def update_parameters (self, epsilon):\n",
    "        ## Mise a jour  des  parametres\n",
    "        pass\n",
    "    \n",
    "    def backward_delta (self, x, delta):\n",
    "        ## Retourne  l e  gradient  du module par  rapport  aux  entrees\n",
    "        pass\n",
    "    \n",
    "    def zero_grad(self):\n",
    "        ## Remise a zero du  gradient    \n",
    "        pass\n",
    "    \n",
    "    def  initialize_parameters(self):\n",
    "        ### Initialisation des parametres\n",
    "        pass\n",
    "    \n",
    "    \n",
    "class Loss:\n",
    "    def forward(self, y, ypred):\n",
    "        ## Calcule l'erreur\n",
    "        pass\n",
    "    \n",
    "    def backward(self, y, ypred):\n",
    "        ## Gradient du cout\n",
    "        pass\n",
    "\n",
    "    \n",
    "class FunctionLinear:\n",
    "    @staticmethod\n",
    "    def forward( x, w):\n",
    "        return torch.mm(x,w)  \n",
    "    \n",
    "    @staticmethod\n",
    "    def backward(delta, x, w):\n",
    "        #to check formula\n",
    "        grad_x = torch.mm(delta, w.t())\n",
    "        grad_w = torch.mm(x.t(),delta)\n",
    "        return grad_x,grad_w\n",
    "\n",
    "\n",
    "class ModuleLinear(Module):\n",
    "    def __init__(self, _in, out):\n",
    "        #in : dimension de l'entrée\n",
    "        #out : dimension de la sortie\n",
    "        self.w = torch.rand(_in, out)\n",
    "        self.grad = torch.zeros(_in, out)\n",
    "        \n",
    "    def forward(self, x):\n",
    "        return FunctionLinear.forward(x, self.w)  \n",
    "    \n",
    "    def backward_update_gradient(self, x, delta):\n",
    "        self.grad += FunctionLinear.backward(delta, x, self.w)[1]\n",
    "    \n",
    "    def backward_delta(self, x, delta):\n",
    "        return torch.mm(delta, self.w.t())\n",
    "    \n",
    "    def update_parameters(self, epsilon):\n",
    "        self.w = self.w - epsilon*self.grad\n",
    "    \n",
    "    def zero_grad(self):\n",
    "        self.grad.zero_()\n",
    "        \n",
    "        \n",
    "class MSE(Loss):\n",
    "    # Cout MSE\n",
    "    def forward(self, y, ypred):\n",
    "        return 0.5*(ypred - y).pow(2).sum()\n",
    "\n",
    "    def backward(self, y, ypred):\n",
    "        return ypred - y\n",
    "    \n",
    "class Hinge(Loss):\n",
    "    # Cout Hinge loss\n",
    "    def forward(self, y, ypred):\n",
    "        return np.maximum(0, -y*ypred).sum()\n",
    "\n",
    "    def backward(self, y, ypred):\n",
    "        return -y\n",
    "    "
   ]
  },
  {
   "cell_type": "markdown",
   "metadata": {},
   "source": [
    "---\n",
    "## Régression linéaire"
   ]
  },
  {
   "cell_type": "markdown",
   "metadata": {},
   "source": [
    "### Jeu de données aléatoire et test\n",
    "Test avec jeu de données créé à la main"
   ]
  },
  {
   "cell_type": "code",
   "execution_count": 3,
   "metadata": {},
   "outputs": [],
   "source": [
    "X, Y = torch.rand(100,2), torch.rand(100).reshape(-1,1)"
   ]
  },
  {
   "cell_type": "code",
   "execution_count": 6,
   "metadata": {
    "scrolled": true
   },
   "outputs": [
    {
     "name": "stdout",
     "output_type": "stream",
     "text": [
      "tensor(6.5744)\n",
      "tensor(6.5350)\n"
     ]
    }
   ],
   "source": [
    "model = ModuleLinear(2,1)\n",
    "loss = MSE()\n",
    "\n",
    "model.zero_grad()\n",
    "ypred = model.forward(X)\n",
    "delta = loss.backward(Y, ypred)\n",
    "\n",
    "model.backward_update_gradient(X, delta)\n",
    "model.update_parameters(epsilon=0.005)\n",
    "print(loss.forward(Y, ypred))\n",
    "\n",
    "ypred = model.forward(X)\n",
    "print(loss.forward(Y, ypred))"
   ]
  },
  {
   "cell_type": "markdown",
   "metadata": {},
   "source": [
    "Implémentation des trois variantes pour la descente de gradient :\n",
    "\n",
    "- Stochastique\n",
    "- Batch\n",
    "- Minibatch"
   ]
  },
  {
   "cell_type": "markdown",
   "metadata": {},
   "source": [
    "### Stochastique"
   ]
  },
  {
   "cell_type": "code",
   "execution_count": 11,
   "metadata": {},
   "outputs": [],
   "source": [
    "def stochastique(X, Y, module, loss=MSE(), epsilon=0.0001, max_iter=100):\n",
    "    cout = []\n",
    "    for i in range(max_iter):\n",
    "        inds = list(range(len(X)))\n",
    "        np.random.shuffle(inds)\n",
    "        for x, y in zip(X[inds], Y[inds]):\n",
    "            x, y = x.reshape(1, -1), y.reshape(1,-1)\n",
    "            module.zero_grad()\n",
    "            ypred = module.forward(x)\n",
    "            delta = loss.backward(y, ypred)\n",
    "            \n",
    "            module.backward_update_gradient(x, delta)\n",
    "            module.update_parameters(epsilon=epsilon)\n",
    "            \n",
    "            cout.append(loss.forward(y, ypred))\n",
    "    return cout"
   ]
  },
  {
   "cell_type": "code",
   "execution_count": 18,
   "metadata": {},
   "outputs": [
    {
     "data": {
      "image/png": "[encoded data removed]",
      "text/plain": [
       "<Figure size 432x288 with 1 Axes>"
      ]
     },
     "metadata": {},
     "output_type": "display_data"
    }
   ],
   "source": [
    "c = stochastique(X, Y, ModuleLinear(2, 1))\n",
    "plt.plot(range(len(c)), c)\n",
    "plt.show()"
   ]
  },
  {
   "cell_type": "markdown",
   "metadata": {},
   "source": [
    "### Batch"
   ]
  },
  {
   "cell_type": "code",
   "execution_count": 16,
   "metadata": {},
   "outputs": [],
   "source": [
    "def batch(X, Y, module, loss=MSE(), epsilon=0.005, max_iter=100):\n",
    "    cout = []\n",
    "    for i in range(max_iter):\n",
    "        module.zero_grad()\n",
    "        ypred = module.forward(X)\n",
    "        delta = loss.backward(Y, ypred)\n",
    "\n",
    "        module.backward_update_gradient(X, delta)\n",
    "        module.update_parameters(epsilon=epsilon)\n",
    "\n",
    "        cout.append(loss.forward(Y, ypred))\n",
    "    return cout"
   ]
  },
  {
   "cell_type": "code",
   "execution_count": 20,
   "metadata": {},
   "outputs": [
    {
     "data": {
      "image/png": "[encoded data removed]",
      "text/plain": [
       "<Figure size 432x288 with 1 Axes>"
      ]
     },
     "metadata": {},
     "output_type": "display_data"
    }
   ],
   "source": [
    "c2 = batch(X, Y, ModuleLinear(2, 1))\n",
    "plt.plot(range(len(c2)), c2)\n",
    "plt.show()"
   ]
  },
  {
   "cell_type": "markdown",
   "metadata": {},
   "source": [
    "### Mini batch"
   ]
  },
  {
   "cell_type": "code",
   "execution_count": 15,
   "metadata": {},
   "outputs": [],
   "source": [
    "def mini_batch(X, Y, module, loss=MSE(), n=50, epsilon=0.05, max_iter=100):\n",
    "    cout = []\n",
    "    for i in range(max_iter):\n",
    "        inds = list(range(len(X)))[:n]\n",
    "        np.random.shuffle(inds)\n",
    "\n",
    "        module.zero_grad()\n",
    "        \n",
    "        ypred = module.forward(X[inds])\n",
    "        delta = loss.backward(Y[inds], ypred)\n",
    "\n",
    "        module.backward_update_gradient(X[inds], delta)\n",
    "        module.update_parameters(epsilon=epsilon)\n",
    "\n",
    "        cout.append(loss.forward(Y[inds], ypred))\n",
    "            \n",
    "    return cout"
   ]
  },
  {
   "cell_type": "code",
   "execution_count": 22,
   "metadata": {},
   "outputs": [
    {
     "data": {
      "image/png": "[encoded data removed]",
      "text/plain": [
       "<Figure size 432x288 with 1 Axes>"
      ]
     },
     "metadata": {},
     "output_type": "display_data"
    }
   ],
   "source": [
    "c3 = mini_batch(X, Y, ModuleLinear(2, 1))\n",
    "plt.plot(range(len(c3)), c3)\n",
    "plt.show()"
   ]
  },
  {
   "cell_type": "markdown",
   "metadata": {},
   "source": [
    "### Jeu de données : Boston Housing"
   ]
  },
  {
   "cell_type": "code",
   "execution_count": 23,
   "metadata": {
    "scrolled": true
   },
   "outputs": [
    {
     "data": {
      "text/html": [
       "<div>\n",
       "<style scoped>\n",
       "    .dataframe tbody tr th:only-of-type {\n",
       "        vertical-align: middle;\n",
       "    }\n",
       "\n",
       "    .dataframe tbody tr th {\n",
       "        vertical-align: top;\n",
       "    }\n",
       "\n",
       "    .dataframe thead th {\n",
       "        text-align: right;\n",
       "    }\n",
       "</style>\n",
       "<table border=\"1\" class=\"dataframe\">\n",
       "  <thead>\n",
       "    <tr style=\"text-align: right;\">\n",
       "      <th></th>\n",
       "      <th>0</th>\n",
       "      <th>1</th>\n",
       "      <th>2</th>\n",
       "      <th>3</th>\n",
       "      <th>4</th>\n",
       "      <th>5</th>\n",
       "      <th>6</th>\n",
       "      <th>7</th>\n",
       "      <th>8</th>\n",
       "      <th>9</th>\n",
       "      <th>10</th>\n",
       "      <th>11</th>\n",
       "      <th>12</th>\n",
       "      <th>13</th>\n",
       "    </tr>\n",
       "  </thead>\n",
       "  <tbody>\n",
       "    <tr>\n",
       "      <th>0</th>\n",
       "      <td>0.00632</td>\n",
       "      <td>18.0</td>\n",
       "      <td>2.31</td>\n",
       "      <td>0</td>\n",
       "      <td>0.538</td>\n",
       "      <td>6.575</td>\n",
       "      <td>65.2</td>\n",
       "      <td>4.0900</td>\n",
       "      <td>1</td>\n",
       "      <td>296.0</td>\n",
       "      <td>15.3</td>\n",
       "      <td>396.90</td>\n",
       "      <td>4.98</td>\n",
       "      <td>24.0</td>\n",
       "    </tr>\n",
       "    <tr>\n",
       "      <th>1</th>\n",
       "      <td>0.02731</td>\n",
       "      <td>0.0</td>\n",
       "      <td>7.07</td>\n",
       "      <td>0</td>\n",
       "      <td>0.469</td>\n",
       "      <td>6.421</td>\n",
       "      <td>78.9</td>\n",
       "      <td>4.9671</td>\n",
       "      <td>2</td>\n",
       "      <td>242.0</td>\n",
       "      <td>17.8</td>\n",
       "      <td>396.90</td>\n",
       "      <td>9.14</td>\n",
       "      <td>21.6</td>\n",
       "    </tr>\n",
       "    <tr>\n",
       "      <th>2</th>\n",
       "      <td>0.02729</td>\n",
       "      <td>0.0</td>\n",
       "      <td>7.07</td>\n",
       "      <td>0</td>\n",
       "      <td>0.469</td>\n",
       "      <td>7.185</td>\n",
       "      <td>61.1</td>\n",
       "      <td>4.9671</td>\n",
       "      <td>2</td>\n",
       "      <td>242.0</td>\n",
       "      <td>17.8</td>\n",
       "      <td>392.83</td>\n",
       "      <td>4.03</td>\n",
       "      <td>34.7</td>\n",
       "    </tr>\n",
       "    <tr>\n",
       "      <th>3</th>\n",
       "      <td>0.03237</td>\n",
       "      <td>0.0</td>\n",
       "      <td>2.18</td>\n",
       "      <td>0</td>\n",
       "      <td>0.458</td>\n",
       "      <td>6.998</td>\n",
       "      <td>45.8</td>\n",
       "      <td>6.0622</td>\n",
       "      <td>3</td>\n",
       "      <td>222.0</td>\n",
       "      <td>18.7</td>\n",
       "      <td>394.63</td>\n",
       "      <td>2.94</td>\n",
       "      <td>33.4</td>\n",
       "    </tr>\n",
       "    <tr>\n",
       "      <th>4</th>\n",
       "      <td>0.06905</td>\n",
       "      <td>0.0</td>\n",
       "      <td>2.18</td>\n",
       "      <td>0</td>\n",
       "      <td>0.458</td>\n",
       "      <td>7.147</td>\n",
       "      <td>54.2</td>\n",
       "      <td>6.0622</td>\n",
       "      <td>3</td>\n",
       "      <td>222.0</td>\n",
       "      <td>18.7</td>\n",
       "      <td>396.90</td>\n",
       "      <td>5.33</td>\n",
       "      <td>36.2</td>\n",
       "    </tr>\n",
       "    <tr>\n",
       "      <th>5</th>\n",
       "      <td>0.02985</td>\n",
       "      <td>0.0</td>\n",
       "      <td>2.18</td>\n",
       "      <td>0</td>\n",
       "      <td>0.458</td>\n",
       "      <td>6.430</td>\n",
       "      <td>58.7</td>\n",
       "      <td>6.0622</td>\n",
       "      <td>3</td>\n",
       "      <td>222.0</td>\n",
       "      <td>18.7</td>\n",
       "      <td>394.12</td>\n",
       "      <td>5.21</td>\n",
       "      <td>28.7</td>\n",
       "    </tr>\n",
       "    <tr>\n",
       "      <th>6</th>\n",
       "      <td>0.08829</td>\n",
       "      <td>12.5</td>\n",
       "      <td>7.87</td>\n",
       "      <td>0</td>\n",
       "      <td>0.524</td>\n",
       "      <td>6.012</td>\n",
       "      <td>66.6</td>\n",
       "      <td>5.5605</td>\n",
       "      <td>5</td>\n",
       "      <td>311.0</td>\n",
       "      <td>15.2</td>\n",
       "      <td>395.60</td>\n",
       "      <td>12.43</td>\n",
       "      <td>22.9</td>\n",
       "    </tr>\n",
       "    <tr>\n",
       "      <th>7</th>\n",
       "      <td>0.14455</td>\n",
       "      <td>12.5</td>\n",
       "      <td>7.87</td>\n",
       "      <td>0</td>\n",
       "      <td>0.524</td>\n",
       "      <td>6.172</td>\n",
       "      <td>96.1</td>\n",
       "      <td>5.9505</td>\n",
       "      <td>5</td>\n",
       "      <td>311.0</td>\n",
       "      <td>15.2</td>\n",
       "      <td>396.90</td>\n",
       "      <td>19.15</td>\n",
       "      <td>27.1</td>\n",
       "    </tr>\n",
       "    <tr>\n",
       "      <th>8</th>\n",
       "      <td>0.21124</td>\n",
       "      <td>12.5</td>\n",
       "      <td>7.87</td>\n",
       "      <td>0</td>\n",
       "      <td>0.524</td>\n",
       "      <td>5.631</td>\n",
       "      <td>100.0</td>\n",
       "      <td>6.0821</td>\n",
       "      <td>5</td>\n",
       "      <td>311.0</td>\n",
       "      <td>15.2</td>\n",
       "      <td>386.63</td>\n",
       "      <td>29.93</td>\n",
       "      <td>16.5</td>\n",
       "    </tr>\n",
       "    <tr>\n",
       "      <th>9</th>\n",
       "      <td>0.17004</td>\n",
       "      <td>12.5</td>\n",
       "      <td>7.87</td>\n",
       "      <td>0</td>\n",
       "      <td>0.524</td>\n",
       "      <td>6.004</td>\n",
       "      <td>85.9</td>\n",
       "      <td>6.5921</td>\n",
       "      <td>5</td>\n",
       "      <td>311.0</td>\n",
       "      <td>15.2</td>\n",
       "      <td>386.71</td>\n",
       "      <td>17.10</td>\n",
       "      <td>18.9</td>\n",
       "    </tr>\n",
       "    <tr>\n",
       "      <th>10</th>\n",
       "      <td>0.22489</td>\n",
       "      <td>12.5</td>\n",
       "      <td>7.87</td>\n",
       "      <td>0</td>\n",
       "      <td>0.524</td>\n",
       "      <td>6.377</td>\n",
       "      <td>94.3</td>\n",
       "      <td>6.3467</td>\n",
       "      <td>5</td>\n",
       "      <td>311.0</td>\n",
       "      <td>15.2</td>\n",
       "      <td>392.52</td>\n",
       "      <td>20.45</td>\n",
       "      <td>15.0</td>\n",
       "    </tr>\n",
       "    <tr>\n",
       "      <th>11</th>\n",
       "      <td>0.11747</td>\n",
       "      <td>12.5</td>\n",
       "      <td>7.87</td>\n",
       "      <td>0</td>\n",
       "      <td>0.524</td>\n",
       "      <td>6.009</td>\n",
       "      <td>82.9</td>\n",
       "      <td>6.2267</td>\n",
       "      <td>5</td>\n",
       "      <td>311.0</td>\n",
       "      <td>15.2</td>\n",
       "      <td>396.90</td>\n",
       "      <td>13.27</td>\n",
       "      <td>18.9</td>\n",
       "    </tr>\n",
       "    <tr>\n",
       "      <th>12</th>\n",
       "      <td>0.09378</td>\n",
       "      <td>12.5</td>\n",
       "      <td>7.87</td>\n",
       "      <td>0</td>\n",
       "      <td>0.524</td>\n",
       "      <td>5.889</td>\n",
       "      <td>39.0</td>\n",
       "      <td>5.4509</td>\n",
       "      <td>5</td>\n",
       "      <td>311.0</td>\n",
       "      <td>15.2</td>\n",
       "      <td>390.50</td>\n",
       "      <td>15.71</td>\n",
       "      <td>21.7</td>\n",
       "    </tr>\n",
       "    <tr>\n",
       "      <th>13</th>\n",
       "      <td>0.62976</td>\n",
       "      <td>0.0</td>\n",
       "      <td>8.14</td>\n",
       "      <td>0</td>\n",
       "      <td>0.538</td>\n",
       "      <td>5.949</td>\n",
       "      <td>61.8</td>\n",
       "      <td>4.7075</td>\n",
       "      <td>4</td>\n",
       "      <td>307.0</td>\n",
       "      <td>21.0</td>\n",
       "      <td>396.90</td>\n",
       "      <td>8.26</td>\n",
       "      <td>20.4</td>\n",
       "    </tr>\n",
       "    <tr>\n",
       "      <th>14</th>\n",
       "      <td>0.63796</td>\n",
       "      <td>0.0</td>\n",
       "      <td>8.14</td>\n",
       "      <td>0</td>\n",
       "      <td>0.538</td>\n",
       "      <td>6.096</td>\n",
       "      <td>84.5</td>\n",
       "      <td>4.4619</td>\n",
       "      <td>4</td>\n",
       "      <td>307.0</td>\n",
       "      <td>21.0</td>\n",
       "      <td>380.02</td>\n",
       "      <td>10.26</td>\n",
       "      <td>18.2</td>\n",
       "    </tr>\n",
       "    <tr>\n",
       "      <th>15</th>\n",
       "      <td>0.62739</td>\n",
       "      <td>0.0</td>\n",
       "      <td>8.14</td>\n",
       "      <td>0</td>\n",
       "      <td>0.538</td>\n",
       "      <td>5.834</td>\n",
       "      <td>56.5</td>\n",
       "      <td>4.4986</td>\n",
       "      <td>4</td>\n",
       "      <td>307.0</td>\n",
       "      <td>21.0</td>\n",
       "      <td>395.62</td>\n",
       "      <td>8.47</td>\n",
       "      <td>19.9</td>\n",
       "    </tr>\n",
       "    <tr>\n",
       "      <th>16</th>\n",
       "      <td>1.05393</td>\n",
       "      <td>0.0</td>\n",
       "      <td>8.14</td>\n",
       "      <td>0</td>\n",
       "      <td>0.538</td>\n",
       "      <td>5.935</td>\n",
       "      <td>29.3</td>\n",
       "      <td>4.4986</td>\n",
       "      <td>4</td>\n",
       "      <td>307.0</td>\n",
       "      <td>21.0</td>\n",
       "      <td>386.85</td>\n",
       "      <td>6.58</td>\n",
       "      <td>23.1</td>\n",
       "    </tr>\n",
       "    <tr>\n",
       "      <th>17</th>\n",
       "      <td>0.78420</td>\n",
       "      <td>0.0</td>\n",
       "      <td>8.14</td>\n",
       "      <td>0</td>\n",
       "      <td>0.538</td>\n",
       "      <td>5.990</td>\n",
       "      <td>81.7</td>\n",
       "      <td>4.2579</td>\n",
       "      <td>4</td>\n",
       "      <td>307.0</td>\n",
       "      <td>21.0</td>\n",
       "      <td>386.75</td>\n",
       "      <td>14.67</td>\n",
       "      <td>17.5</td>\n",
       "    </tr>\n",
       "    <tr>\n",
       "      <th>18</th>\n",
       "      <td>0.80271</td>\n",
       "      <td>0.0</td>\n",
       "      <td>8.14</td>\n",
       "      <td>0</td>\n",
       "      <td>0.538</td>\n",
       "      <td>5.456</td>\n",
       "      <td>36.6</td>\n",
       "      <td>3.7965</td>\n",
       "      <td>4</td>\n",
       "      <td>307.0</td>\n",
       "      <td>21.0</td>\n",
       "      <td>288.99</td>\n",
       "      <td>11.69</td>\n",
       "      <td>20.2</td>\n",
       "    </tr>\n",
       "    <tr>\n",
       "      <th>19</th>\n",
       "      <td>0.72580</td>\n",
       "      <td>0.0</td>\n",
       "      <td>8.14</td>\n",
       "      <td>0</td>\n",
       "      <td>0.538</td>\n",
       "      <td>5.727</td>\n",
       "      <td>69.5</td>\n",
       "      <td>3.7965</td>\n",
       "      <td>4</td>\n",
       "      <td>307.0</td>\n",
       "      <td>21.0</td>\n",
       "      <td>390.95</td>\n",
       "      <td>11.28</td>\n",
       "      <td>18.2</td>\n",
       "    </tr>\n",
       "    <tr>\n",
       "      <th>20</th>\n",
       "      <td>1.25179</td>\n",
       "      <td>0.0</td>\n",
       "      <td>8.14</td>\n",
       "      <td>0</td>\n",
       "      <td>0.538</td>\n",
       "      <td>5.570</td>\n",
       "      <td>98.1</td>\n",
       "      <td>3.7979</td>\n",
       "      <td>4</td>\n",
       "      <td>307.0</td>\n",
       "      <td>21.0</td>\n",
       "      <td>376.57</td>\n",
       "      <td>21.02</td>\n",
       "      <td>13.6</td>\n",
       "    </tr>\n",
       "    <tr>\n",
       "      <th>21</th>\n",
       "      <td>0.85204</td>\n",
       "      <td>0.0</td>\n",
       "      <td>8.14</td>\n",
       "      <td>0</td>\n",
       "      <td>0.538</td>\n",
       "      <td>5.965</td>\n",
       "      <td>89.2</td>\n",
       "      <td>4.0123</td>\n",
       "      <td>4</td>\n",
       "      <td>307.0</td>\n",
       "      <td>21.0</td>\n",
       "      <td>392.53</td>\n",
       "      <td>13.83</td>\n",
       "      <td>19.6</td>\n",
       "    </tr>\n",
       "    <tr>\n",
       "      <th>22</th>\n",
       "      <td>1.23247</td>\n",
       "      <td>0.0</td>\n",
       "      <td>8.14</td>\n",
       "      <td>0</td>\n",
       "      <td>0.538</td>\n",
       "      <td>6.142</td>\n",
       "      <td>91.7</td>\n",
       "      <td>3.9769</td>\n",
       "      <td>4</td>\n",
       "      <td>307.0</td>\n",
       "      <td>21.0</td>\n",
       "      <td>396.90</td>\n",
       "      <td>18.72</td>\n",
       "      <td>15.2</td>\n",
       "    </tr>\n",
       "    <tr>\n",
       "      <th>23</th>\n",
       "      <td>0.98843</td>\n",
       "      <td>0.0</td>\n",
       "      <td>8.14</td>\n",
       "      <td>0</td>\n",
       "      <td>0.538</td>\n",
       "      <td>5.813</td>\n",
       "      <td>100.0</td>\n",
       "      <td>4.0952</td>\n",
       "      <td>4</td>\n",
       "      <td>307.0</td>\n",
       "      <td>21.0</td>\n",
       "      <td>394.54</td>\n",
       "      <td>19.88</td>\n",
       "      <td>14.5</td>\n",
       "    </tr>\n",
       "    <tr>\n",
       "      <th>24</th>\n",
       "      <td>0.75026</td>\n",
       "      <td>0.0</td>\n",
       "      <td>8.14</td>\n",
       "      <td>0</td>\n",
       "      <td>0.538</td>\n",
       "      <td>5.924</td>\n",
       "      <td>94.1</td>\n",
       "      <td>4.3996</td>\n",
       "      <td>4</td>\n",
       "      <td>307.0</td>\n",
       "      <td>21.0</td>\n",
       "      <td>394.33</td>\n",
       "      <td>16.30</td>\n",
       "      <td>15.6</td>\n",
       "    </tr>\n",
       "    <tr>\n",
       "      <th>25</th>\n",
       "      <td>0.84054</td>\n",
       "      <td>0.0</td>\n",
       "      <td>8.14</td>\n",
       "      <td>0</td>\n",
       "      <td>0.538</td>\n",
       "      <td>5.599</td>\n",
       "      <td>85.7</td>\n",
       "      <td>4.4546</td>\n",
       "      <td>4</td>\n",
       "      <td>307.0</td>\n",
       "      <td>21.0</td>\n",
       "      <td>303.42</td>\n",
       "      <td>16.51</td>\n",
       "      <td>13.9</td>\n",
       "    </tr>\n",
       "    <tr>\n",
       "      <th>26</th>\n",
       "      <td>0.67191</td>\n",
       "      <td>0.0</td>\n",
       "      <td>8.14</td>\n",
       "      <td>0</td>\n",
       "      <td>0.538</td>\n",
       "      <td>5.813</td>\n",
       "      <td>90.3</td>\n",
       "      <td>4.6820</td>\n",
       "      <td>4</td>\n",
       "      <td>307.0</td>\n",
       "      <td>21.0</td>\n",
       "      <td>376.88</td>\n",
       "      <td>14.81</td>\n",
       "      <td>16.6</td>\n",
       "    </tr>\n",
       "    <tr>\n",
       "      <th>27</th>\n",
       "      <td>0.95577</td>\n",
       "      <td>0.0</td>\n",
       "      <td>8.14</td>\n",
       "      <td>0</td>\n",
       "      <td>0.538</td>\n",
       "      <td>6.047</td>\n",
       "      <td>88.8</td>\n",
       "      <td>4.4534</td>\n",
       "      <td>4</td>\n",
       "      <td>307.0</td>\n",
       "      <td>21.0</td>\n",
       "      <td>306.38</td>\n",
       "      <td>17.28</td>\n",
       "      <td>14.8</td>\n",
       "    </tr>\n",
       "    <tr>\n",
       "      <th>28</th>\n",
       "      <td>0.77299</td>\n",
       "      <td>0.0</td>\n",
       "      <td>8.14</td>\n",
       "      <td>0</td>\n",
       "      <td>0.538</td>\n",
       "      <td>6.495</td>\n",
       "      <td>94.4</td>\n",
       "      <td>4.4547</td>\n",
       "      <td>4</td>\n",
       "      <td>307.0</td>\n",
       "      <td>21.0</td>\n",
       "      <td>387.94</td>\n",
       "      <td>12.80</td>\n",
       "      <td>18.4</td>\n",
       "    </tr>\n",
       "    <tr>\n",
       "      <th>29</th>\n",
       "      <td>1.00245</td>\n",
       "      <td>0.0</td>\n",
       "      <td>8.14</td>\n",
       "      <td>0</td>\n",
       "      <td>0.538</td>\n",
       "      <td>6.674</td>\n",
       "      <td>87.3</td>\n",
       "      <td>4.2390</td>\n",
       "      <td>4</td>\n",
       "      <td>307.0</td>\n",
       "      <td>21.0</td>\n",
       "      <td>380.23</td>\n",
       "      <td>11.98</td>\n",
       "      <td>21.0</td>\n",
       "    </tr>\n",
       "    <tr>\n",
       "      <th>...</th>\n",
       "      <td>...</td>\n",
       "      <td>...</td>\n",
       "      <td>...</td>\n",
       "      <td>...</td>\n",
       "      <td>...</td>\n",
       "      <td>...</td>\n",
       "      <td>...</td>\n",
       "      <td>...</td>\n",
       "      <td>...</td>\n",
       "      <td>...</td>\n",
       "      <td>...</td>\n",
       "      <td>...</td>\n",
       "      <td>...</td>\n",
       "      <td>...</td>\n",
       "    </tr>\n",
       "    <tr>\n",
       "      <th>476</th>\n",
       "      <td>4.87141</td>\n",
       "      <td>0.0</td>\n",
       "      <td>18.10</td>\n",
       "      <td>0</td>\n",
       "      <td>0.614</td>\n",
       "      <td>6.484</td>\n",
       "      <td>93.6</td>\n",
       "      <td>2.3053</td>\n",
       "      <td>24</td>\n",
       "      <td>666.0</td>\n",
       "      <td>20.2</td>\n",
       "      <td>396.21</td>\n",
       "      <td>18.68</td>\n",
       "      <td>16.7</td>\n",
       "    </tr>\n",
       "    <tr>\n",
       "      <th>477</th>\n",
       "      <td>15.02340</td>\n",
       "      <td>0.0</td>\n",
       "      <td>18.10</td>\n",
       "      <td>0</td>\n",
       "      <td>0.614</td>\n",
       "      <td>5.304</td>\n",
       "      <td>97.3</td>\n",
       "      <td>2.1007</td>\n",
       "      <td>24</td>\n",
       "      <td>666.0</td>\n",
       "      <td>20.2</td>\n",
       "      <td>349.48</td>\n",
       "      <td>24.91</td>\n",
       "      <td>12.0</td>\n",
       "    </tr>\n",
       "    <tr>\n",
       "      <th>478</th>\n",
       "      <td>10.23300</td>\n",
       "      <td>0.0</td>\n",
       "      <td>18.10</td>\n",
       "      <td>0</td>\n",
       "      <td>0.614</td>\n",
       "      <td>6.185</td>\n",
       "      <td>96.7</td>\n",
       "      <td>2.1705</td>\n",
       "      <td>24</td>\n",
       "      <td>666.0</td>\n",
       "      <td>20.2</td>\n",
       "      <td>379.70</td>\n",
       "      <td>18.03</td>\n",
       "      <td>14.6</td>\n",
       "    </tr>\n",
       "    <tr>\n",
       "      <th>479</th>\n",
       "      <td>14.33370</td>\n",
       "      <td>0.0</td>\n",
       "      <td>18.10</td>\n",
       "      <td>0</td>\n",
       "      <td>0.614</td>\n",
       "      <td>6.229</td>\n",
       "      <td>88.0</td>\n",
       "      <td>1.9512</td>\n",
       "      <td>24</td>\n",
       "      <td>666.0</td>\n",
       "      <td>20.2</td>\n",
       "      <td>383.32</td>\n",
       "      <td>13.11</td>\n",
       "      <td>21.4</td>\n",
       "    </tr>\n",
       "    <tr>\n",
       "      <th>480</th>\n",
       "      <td>5.82401</td>\n",
       "      <td>0.0</td>\n",
       "      <td>18.10</td>\n",
       "      <td>0</td>\n",
       "      <td>0.532</td>\n",
       "      <td>6.242</td>\n",
       "      <td>64.7</td>\n",
       "      <td>3.4242</td>\n",
       "      <td>24</td>\n",
       "      <td>666.0</td>\n",
       "      <td>20.2</td>\n",
       "      <td>396.90</td>\n",
       "      <td>10.74</td>\n",
       "      <td>23.0</td>\n",
       "    </tr>\n",
       "    <tr>\n",
       "      <th>481</th>\n",
       "      <td>5.70818</td>\n",
       "      <td>0.0</td>\n",
       "      <td>18.10</td>\n",
       "      <td>0</td>\n",
       "      <td>0.532</td>\n",
       "      <td>6.750</td>\n",
       "      <td>74.9</td>\n",
       "      <td>3.3317</td>\n",
       "      <td>24</td>\n",
       "      <td>666.0</td>\n",
       "      <td>20.2</td>\n",
       "      <td>393.07</td>\n",
       "      <td>7.74</td>\n",
       "      <td>23.7</td>\n",
       "    </tr>\n",
       "    <tr>\n",
       "      <th>482</th>\n",
       "      <td>5.73116</td>\n",
       "      <td>0.0</td>\n",
       "      <td>18.10</td>\n",
       "      <td>0</td>\n",
       "      <td>0.532</td>\n",
       "      <td>7.061</td>\n",
       "      <td>77.0</td>\n",
       "      <td>3.4106</td>\n",
       "      <td>24</td>\n",
       "      <td>666.0</td>\n",
       "      <td>20.2</td>\n",
       "      <td>395.28</td>\n",
       "      <td>7.01</td>\n",
       "      <td>25.0</td>\n",
       "    </tr>\n",
       "    <tr>\n",
       "      <th>483</th>\n",
       "      <td>2.81838</td>\n",
       "      <td>0.0</td>\n",
       "      <td>18.10</td>\n",
       "      <td>0</td>\n",
       "      <td>0.532</td>\n",
       "      <td>5.762</td>\n",
       "      <td>40.3</td>\n",
       "      <td>4.0983</td>\n",
       "      <td>24</td>\n",
       "      <td>666.0</td>\n",
       "      <td>20.2</td>\n",
       "      <td>392.92</td>\n",
       "      <td>10.42</td>\n",
       "      <td>21.8</td>\n",
       "    </tr>\n",
       "    <tr>\n",
       "      <th>484</th>\n",
       "      <td>2.37857</td>\n",
       "      <td>0.0</td>\n",
       "      <td>18.10</td>\n",
       "      <td>0</td>\n",
       "      <td>0.583</td>\n",
       "      <td>5.871</td>\n",
       "      <td>41.9</td>\n",
       "      <td>3.7240</td>\n",
       "      <td>24</td>\n",
       "      <td>666.0</td>\n",
       "      <td>20.2</td>\n",
       "      <td>370.73</td>\n",
       "      <td>13.34</td>\n",
       "      <td>20.6</td>\n",
       "    </tr>\n",
       "    <tr>\n",
       "      <th>485</th>\n",
       "      <td>3.67367</td>\n",
       "      <td>0.0</td>\n",
       "      <td>18.10</td>\n",
       "      <td>0</td>\n",
       "      <td>0.583</td>\n",
       "      <td>6.312</td>\n",
       "      <td>51.9</td>\n",
       "      <td>3.9917</td>\n",
       "      <td>24</td>\n",
       "      <td>666.0</td>\n",
       "      <td>20.2</td>\n",
       "      <td>388.62</td>\n",
       "      <td>10.58</td>\n",
       "      <td>21.2</td>\n",
       "    </tr>\n",
       "    <tr>\n",
       "      <th>486</th>\n",
       "      <td>5.69175</td>\n",
       "      <td>0.0</td>\n",
       "      <td>18.10</td>\n",
       "      <td>0</td>\n",
       "      <td>0.583</td>\n",
       "      <td>6.114</td>\n",
       "      <td>79.8</td>\n",
       "      <td>3.5459</td>\n",
       "      <td>24</td>\n",
       "      <td>666.0</td>\n",
       "      <td>20.2</td>\n",
       "      <td>392.68</td>\n",
       "      <td>14.98</td>\n",
       "      <td>19.1</td>\n",
       "    </tr>\n",
       "    <tr>\n",
       "      <th>487</th>\n",
       "      <td>4.83567</td>\n",
       "      <td>0.0</td>\n",
       "      <td>18.10</td>\n",
       "      <td>0</td>\n",
       "      <td>0.583</td>\n",
       "      <td>5.905</td>\n",
       "      <td>53.2</td>\n",
       "      <td>3.1523</td>\n",
       "      <td>24</td>\n",
       "      <td>666.0</td>\n",
       "      <td>20.2</td>\n",
       "      <td>388.22</td>\n",
       "      <td>11.45</td>\n",
       "      <td>20.6</td>\n",
       "    </tr>\n",
       "    <tr>\n",
       "      <th>488</th>\n",
       "      <td>0.15086</td>\n",
       "      <td>0.0</td>\n",
       "      <td>27.74</td>\n",
       "      <td>0</td>\n",
       "      <td>0.609</td>\n",
       "      <td>5.454</td>\n",
       "      <td>92.7</td>\n",
       "      <td>1.8209</td>\n",
       "      <td>4</td>\n",
       "      <td>711.0</td>\n",
       "      <td>20.1</td>\n",
       "      <td>395.09</td>\n",
       "      <td>18.06</td>\n",
       "      <td>15.2</td>\n",
       "    </tr>\n",
       "    <tr>\n",
       "      <th>489</th>\n",
       "      <td>0.18337</td>\n",
       "      <td>0.0</td>\n",
       "      <td>27.74</td>\n",
       "      <td>0</td>\n",
       "      <td>0.609</td>\n",
       "      <td>5.414</td>\n",
       "      <td>98.3</td>\n",
       "      <td>1.7554</td>\n",
       "      <td>4</td>\n",
       "      <td>711.0</td>\n",
       "      <td>20.1</td>\n",
       "      <td>344.05</td>\n",
       "      <td>23.97</td>\n",
       "      <td>7.0</td>\n",
       "    </tr>\n",
       "    <tr>\n",
       "      <th>490</th>\n",
       "      <td>0.20746</td>\n",
       "      <td>0.0</td>\n",
       "      <td>27.74</td>\n",
       "      <td>0</td>\n",
       "      <td>0.609</td>\n",
       "      <td>5.093</td>\n",
       "      <td>98.0</td>\n",
       "      <td>1.8226</td>\n",
       "      <td>4</td>\n",
       "      <td>711.0</td>\n",
       "      <td>20.1</td>\n",
       "      <td>318.43</td>\n",
       "      <td>29.68</td>\n",
       "      <td>8.1</td>\n",
       "    </tr>\n",
       "    <tr>\n",
       "      <th>491</th>\n",
       "      <td>0.10574</td>\n",
       "      <td>0.0</td>\n",
       "      <td>27.74</td>\n",
       "      <td>0</td>\n",
       "      <td>0.609</td>\n",
       "      <td>5.983</td>\n",
       "      <td>98.8</td>\n",
       "      <td>1.8681</td>\n",
       "      <td>4</td>\n",
       "      <td>711.0</td>\n",
       "      <td>20.1</td>\n",
       "      <td>390.11</td>\n",
       "      <td>18.07</td>\n",
       "      <td>13.6</td>\n",
       "    </tr>\n",
       "    <tr>\n",
       "      <th>492</th>\n",
       "      <td>0.11132</td>\n",
       "      <td>0.0</td>\n",
       "      <td>27.74</td>\n",
       "      <td>0</td>\n",
       "      <td>0.609</td>\n",
       "      <td>5.983</td>\n",
       "      <td>83.5</td>\n",
       "      <td>2.1099</td>\n",
       "      <td>4</td>\n",
       "      <td>711.0</td>\n",
       "      <td>20.1</td>\n",
       "      <td>396.90</td>\n",
       "      <td>13.35</td>\n",
       "      <td>20.1</td>\n",
       "    </tr>\n",
       "    <tr>\n",
       "      <th>493</th>\n",
       "      <td>0.17331</td>\n",
       "      <td>0.0</td>\n",
       "      <td>9.69</td>\n",
       "      <td>0</td>\n",
       "      <td>0.585</td>\n",
       "      <td>5.707</td>\n",
       "      <td>54.0</td>\n",
       "      <td>2.3817</td>\n",
       "      <td>6</td>\n",
       "      <td>391.0</td>\n",
       "      <td>19.2</td>\n",
       "      <td>396.90</td>\n",
       "      <td>12.01</td>\n",
       "      <td>21.8</td>\n",
       "    </tr>\n",
       "    <tr>\n",
       "      <th>494</th>\n",
       "      <td>0.27957</td>\n",
       "      <td>0.0</td>\n",
       "      <td>9.69</td>\n",
       "      <td>0</td>\n",
       "      <td>0.585</td>\n",
       "      <td>5.926</td>\n",
       "      <td>42.6</td>\n",
       "      <td>2.3817</td>\n",
       "      <td>6</td>\n",
       "      <td>391.0</td>\n",
       "      <td>19.2</td>\n",
       "      <td>396.90</td>\n",
       "      <td>13.59</td>\n",
       "      <td>24.5</td>\n",
       "    </tr>\n",
       "    <tr>\n",
       "      <th>495</th>\n",
       "      <td>0.17899</td>\n",
       "      <td>0.0</td>\n",
       "      <td>9.69</td>\n",
       "      <td>0</td>\n",
       "      <td>0.585</td>\n",
       "      <td>5.670</td>\n",
       "      <td>28.8</td>\n",
       "      <td>2.7986</td>\n",
       "      <td>6</td>\n",
       "      <td>391.0</td>\n",
       "      <td>19.2</td>\n",
       "      <td>393.29</td>\n",
       "      <td>17.60</td>\n",
       "      <td>23.1</td>\n",
       "    </tr>\n",
       "    <tr>\n",
       "      <th>496</th>\n",
       "      <td>0.28960</td>\n",
       "      <td>0.0</td>\n",
       "      <td>9.69</td>\n",
       "      <td>0</td>\n",
       "      <td>0.585</td>\n",
       "      <td>5.390</td>\n",
       "      <td>72.9</td>\n",
       "      <td>2.7986</td>\n",
       "      <td>6</td>\n",
       "      <td>391.0</td>\n",
       "      <td>19.2</td>\n",
       "      <td>396.90</td>\n",
       "      <td>21.14</td>\n",
       "      <td>19.7</td>\n",
       "    </tr>\n",
       "    <tr>\n",
       "      <th>497</th>\n",
       "      <td>0.26838</td>\n",
       "      <td>0.0</td>\n",
       "      <td>9.69</td>\n",
       "      <td>0</td>\n",
       "      <td>0.585</td>\n",
       "      <td>5.794</td>\n",
       "      <td>70.6</td>\n",
       "      <td>2.8927</td>\n",
       "      <td>6</td>\n",
       "      <td>391.0</td>\n",
       "      <td>19.2</td>\n",
       "      <td>396.90</td>\n",
       "      <td>14.10</td>\n",
       "      <td>18.3</td>\n",
       "    </tr>\n",
       "    <tr>\n",
       "      <th>498</th>\n",
       "      <td>0.23912</td>\n",
       "      <td>0.0</td>\n",
       "      <td>9.69</td>\n",
       "      <td>0</td>\n",
       "      <td>0.585</td>\n",
       "      <td>6.019</td>\n",
       "      <td>65.3</td>\n",
       "      <td>2.4091</td>\n",
       "      <td>6</td>\n",
       "      <td>391.0</td>\n",
       "      <td>19.2</td>\n",
       "      <td>396.90</td>\n",
       "      <td>12.92</td>\n",
       "      <td>21.2</td>\n",
       "    </tr>\n",
       "    <tr>\n",
       "      <th>499</th>\n",
       "      <td>0.17783</td>\n",
       "      <td>0.0</td>\n",
       "      <td>9.69</td>\n",
       "      <td>0</td>\n",
       "      <td>0.585</td>\n",
       "      <td>5.569</td>\n",
       "      <td>73.5</td>\n",
       "      <td>2.3999</td>\n",
       "      <td>6</td>\n",
       "      <td>391.0</td>\n",
       "      <td>19.2</td>\n",
       "      <td>395.77</td>\n",
       "      <td>15.10</td>\n",
       "      <td>17.5</td>\n",
       "    </tr>\n",
       "    <tr>\n",
       "      <th>500</th>\n",
       "      <td>0.22438</td>\n",
       "      <td>0.0</td>\n",
       "      <td>9.69</td>\n",
       "      <td>0</td>\n",
       "      <td>0.585</td>\n",
       "      <td>6.027</td>\n",
       "      <td>79.7</td>\n",
       "      <td>2.4982</td>\n",
       "      <td>6</td>\n",
       "      <td>391.0</td>\n",
       "      <td>19.2</td>\n",
       "      <td>396.90</td>\n",
       "      <td>14.33</td>\n",
       "      <td>16.8</td>\n",
       "    </tr>\n",
       "    <tr>\n",
       "      <th>501</th>\n",
       "      <td>0.06263</td>\n",
       "      <td>0.0</td>\n",
       "      <td>11.93</td>\n",
       "      <td>0</td>\n",
       "      <td>0.573</td>\n",
       "      <td>6.593</td>\n",
       "      <td>69.1</td>\n",
       "      <td>2.4786</td>\n",
       "      <td>1</td>\n",
       "      <td>273.0</td>\n",
       "      <td>21.0</td>\n",
       "      <td>391.99</td>\n",
       "      <td>9.67</td>\n",
       "      <td>22.4</td>\n",
       "    </tr>\n",
       "    <tr>\n",
       "      <th>502</th>\n",
       "      <td>0.04527</td>\n",
       "      <td>0.0</td>\n",
       "      <td>11.93</td>\n",
       "      <td>0</td>\n",
       "      <td>0.573</td>\n",
       "      <td>6.120</td>\n",
       "      <td>76.7</td>\n",
       "      <td>2.2875</td>\n",
       "      <td>1</td>\n",
       "      <td>273.0</td>\n",
       "      <td>21.0</td>\n",
       "      <td>396.90</td>\n",
       "      <td>9.08</td>\n",
       "      <td>20.6</td>\n",
       "    </tr>\n",
       "    <tr>\n",
       "      <th>503</th>\n",
       "      <td>0.06076</td>\n",
       "      <td>0.0</td>\n",
       "      <td>11.93</td>\n",
       "      <td>0</td>\n",
       "      <td>0.573</td>\n",
       "      <td>6.976</td>\n",
       "      <td>91.0</td>\n",
       "      <td>2.1675</td>\n",
       "      <td>1</td>\n",
       "      <td>273.0</td>\n",
       "      <td>21.0</td>\n",
       "      <td>396.90</td>\n",
       "      <td>5.64</td>\n",
       "      <td>23.9</td>\n",
       "    </tr>\n",
       "    <tr>\n",
       "      <th>504</th>\n",
       "      <td>0.10959</td>\n",
       "      <td>0.0</td>\n",
       "      <td>11.93</td>\n",
       "      <td>0</td>\n",
       "      <td>0.573</td>\n",
       "      <td>6.794</td>\n",
       "      <td>89.3</td>\n",
       "      <td>2.3889</td>\n",
       "      <td>1</td>\n",
       "      <td>273.0</td>\n",
       "      <td>21.0</td>\n",
       "      <td>393.45</td>\n",
       "      <td>6.48</td>\n",
       "      <td>22.0</td>\n",
       "    </tr>\n",
       "    <tr>\n",
       "      <th>505</th>\n",
       "      <td>0.04741</td>\n",
       "      <td>0.0</td>\n",
       "      <td>11.93</td>\n",
       "      <td>0</td>\n",
       "      <td>0.573</td>\n",
       "      <td>6.030</td>\n",
       "      <td>80.8</td>\n",
       "      <td>2.5050</td>\n",
       "      <td>1</td>\n",
       "      <td>273.0</td>\n",
       "      <td>21.0</td>\n",
       "      <td>396.90</td>\n",
       "      <td>7.88</td>\n",
       "      <td>11.9</td>\n",
       "    </tr>\n",
       "  </tbody>\n",
       "</table>\n",
       "<p>506 rows × 14 columns</p>\n",
       "</div>"
      ],
      "text/plain": [
       "           0     1      2   3      4      5      6       7   8      9     10  \\\n",
       "0     0.00632  18.0   2.31   0  0.538  6.575   65.2  4.0900   1  296.0  15.3   \n",
       "1     0.02731   0.0   7.07   0  0.469  6.421   78.9  4.9671   2  242.0  17.8   \n",
       "2     0.02729   0.0   7.07   0  0.469  7.185   61.1  4.9671   2  242.0  17.8   \n",
       "3     0.03237   0.0   2.18   0  0.458  6.998   45.8  6.0622   3  222.0  18.7   \n",
       "4     0.06905   0.0   2.18   0  0.458  7.147   54.2  6.0622   3  222.0  18.7   \n",
       "5     0.02985   0.0   2.18   0  0.458  6.430   58.7  6.0622   3  222.0  18.7   \n",
       "6     0.08829  12.5   7.87   0  0.524  6.012   66.6  5.5605   5  311.0  15.2   \n",
       "7     0.14455  12.5   7.87   0  0.524  6.172   96.1  5.9505   5  311.0  15.2   \n",
       "8     0.21124  12.5   7.87   0  0.524  5.631  100.0  6.0821   5  311.0  15.2   \n",
       "9     0.17004  12.5   7.87   0  0.524  6.004   85.9  6.5921   5  311.0  15.2   \n",
       "10    0.22489  12.5   7.87   0  0.524  6.377   94.3  6.3467   5  311.0  15.2   \n",
       "11    0.11747  12.5   7.87   0  0.524  6.009   82.9  6.2267   5  311.0  15.2   \n",
       "12    0.09378  12.5   7.87   0  0.524  5.889   39.0  5.4509   5  311.0  15.2   \n",
       "13    0.62976   0.0   8.14   0  0.538  5.949   61.8  4.7075   4  307.0  21.0   \n",
       "14    0.63796   0.0   8.14   0  0.538  6.096   84.5  4.4619   4  307.0  21.0   \n",
       "15    0.62739   0.0   8.14   0  0.538  5.834   56.5  4.4986   4  307.0  21.0   \n",
       "16    1.05393   0.0   8.14   0  0.538  5.935   29.3  4.4986   4  307.0  21.0   \n",
       "17    0.78420   0.0   8.14   0  0.538  5.990   81.7  4.2579   4  307.0  21.0   \n",
       "18    0.80271   0.0   8.14   0  0.538  5.456   36.6  3.7965   4  307.0  21.0   \n",
       "19    0.72580   0.0   8.14   0  0.538  5.727   69.5  3.7965   4  307.0  21.0   \n",
       "20    1.25179   0.0   8.14   0  0.538  5.570   98.1  3.7979   4  307.0  21.0   \n",
       "21    0.85204   0.0   8.14   0  0.538  5.965   89.2  4.0123   4  307.0  21.0   \n",
       "22    1.23247   0.0   8.14   0  0.538  6.142   91.7  3.9769   4  307.0  21.0   \n",
       "23    0.98843   0.0   8.14   0  0.538  5.813  100.0  4.0952   4  307.0  21.0   \n",
       "24    0.75026   0.0   8.14   0  0.538  5.924   94.1  4.3996   4  307.0  21.0   \n",
       "25    0.84054   0.0   8.14   0  0.538  5.599   85.7  4.4546   4  307.0  21.0   \n",
       "26    0.67191   0.0   8.14   0  0.538  5.813   90.3  4.6820   4  307.0  21.0   \n",
       "27    0.95577   0.0   8.14   0  0.538  6.047   88.8  4.4534   4  307.0  21.0   \n",
       "28    0.77299   0.0   8.14   0  0.538  6.495   94.4  4.4547   4  307.0  21.0   \n",
       "29    1.00245   0.0   8.14   0  0.538  6.674   87.3  4.2390   4  307.0  21.0   \n",
       "..        ...   ...    ...  ..    ...    ...    ...     ...  ..    ...   ...   \n",
       "476   4.87141   0.0  18.10   0  0.614  6.484   93.6  2.3053  24  666.0  20.2   \n",
       "477  15.02340   0.0  18.10   0  0.614  5.304   97.3  2.1007  24  666.0  20.2   \n",
       "478  10.23300   0.0  18.10   0  0.614  6.185   96.7  2.1705  24  666.0  20.2   \n",
       "479  14.33370   0.0  18.10   0  0.614  6.229   88.0  1.9512  24  666.0  20.2   \n",
       "480   5.82401   0.0  18.10   0  0.532  6.242   64.7  3.4242  24  666.0  20.2   \n",
       "481   5.70818   0.0  18.10   0  0.532  6.750   74.9  3.3317  24  666.0  20.2   \n",
       "482   5.73116   0.0  18.10   0  0.532  7.061   77.0  3.4106  24  666.0  20.2   \n",
       "483   2.81838   0.0  18.10   0  0.532  5.762   40.3  4.0983  24  666.0  20.2   \n",
       "484   2.37857   0.0  18.10   0  0.583  5.871   41.9  3.7240  24  666.0  20.2   \n",
       "485   3.67367   0.0  18.10   0  0.583  6.312   51.9  3.9917  24  666.0  20.2   \n",
       "486   5.69175   0.0  18.10   0  0.583  6.114   79.8  3.5459  24  666.0  20.2   \n",
       "487   4.83567   0.0  18.10   0  0.583  5.905   53.2  3.1523  24  666.0  20.2   \n",
       "488   0.15086   0.0  27.74   0  0.609  5.454   92.7  1.8209   4  711.0  20.1   \n",
       "489   0.18337   0.0  27.74   0  0.609  5.414   98.3  1.7554   4  711.0  20.1   \n",
       "490   0.20746   0.0  27.74   0  0.609  5.093   98.0  1.8226   4  711.0  20.1   \n",
       "491   0.10574   0.0  27.74   0  0.609  5.983   98.8  1.8681   4  711.0  20.1   \n",
       "492   0.11132   0.0  27.74   0  0.609  5.983   83.5  2.1099   4  711.0  20.1   \n",
       "493   0.17331   0.0   9.69   0  0.585  5.707   54.0  2.3817   6  391.0  19.2   \n",
       "494   0.27957   0.0   9.69   0  0.585  5.926   42.6  2.3817   6  391.0  19.2   \n",
       "495   0.17899   0.0   9.69   0  0.585  5.670   28.8  2.7986   6  391.0  19.2   \n",
       "496   0.28960   0.0   9.69   0  0.585  5.390   72.9  2.7986   6  391.0  19.2   \n",
       "497   0.26838   0.0   9.69   0  0.585  5.794   70.6  2.8927   6  391.0  19.2   \n",
       "498   0.23912   0.0   9.69   0  0.585  6.019   65.3  2.4091   6  391.0  19.2   \n",
       "499   0.17783   0.0   9.69   0  0.585  5.569   73.5  2.3999   6  391.0  19.2   \n",
       "500   0.22438   0.0   9.69   0  0.585  6.027   79.7  2.4982   6  391.0  19.2   \n",
       "501   0.06263   0.0  11.93   0  0.573  6.593   69.1  2.4786   1  273.0  21.0   \n",
       "502   0.04527   0.0  11.93   0  0.573  6.120   76.7  2.2875   1  273.0  21.0   \n",
       "503   0.06076   0.0  11.93   0  0.573  6.976   91.0  2.1675   1  273.0  21.0   \n",
       "504   0.10959   0.0  11.93   0  0.573  6.794   89.3  2.3889   1  273.0  21.0   \n",
       "505   0.04741   0.0  11.93   0  0.573  6.030   80.8  2.5050   1  273.0  21.0   \n",
       "\n",
       "         11     12    13  \n",
       "0    396.90   4.98  24.0  \n",
       "1    396.90   9.14  21.6  \n",
       "2    392.83   4.03  34.7  \n",
       "3    394.63   2.94  33.4  \n",
       "4    396.90   5.33  36.2  \n",
       "5    394.12   5.21  28.7  \n",
       "6    395.60  12.43  22.9  \n",
       "7    396.90  19.15  27.1  \n",
       "8    386.63  29.93  16.5  \n",
       "9    386.71  17.10  18.9  \n",
       "10   392.52  20.45  15.0  \n",
       "11   396.90  13.27  18.9  \n",
       "12   390.50  15.71  21.7  \n",
       "13   396.90   8.26  20.4  \n",
       "14   380.02  10.26  18.2  \n",
       "15   395.62   8.47  19.9  \n",
       "16   386.85   6.58  23.1  \n",
       "17   386.75  14.67  17.5  \n",
       "18   288.99  11.69  20.2  \n",
       "19   390.95  11.28  18.2  \n",
       "20   376.57  21.02  13.6  \n",
       "21   392.53  13.83  19.6  \n",
       "22   396.90  18.72  15.2  \n",
       "23   394.54  19.88  14.5  \n",
       "24   394.33  16.30  15.6  \n",
       "25   303.42  16.51  13.9  \n",
       "26   376.88  14.81  16.6  \n",
       "27   306.38  17.28  14.8  \n",
       "28   387.94  12.80  18.4  \n",
       "29   380.23  11.98  21.0  \n",
       "..      ...    ...   ...  \n",
       "476  396.21  18.68  16.7  \n",
       "477  349.48  24.91  12.0  \n",
       "478  379.70  18.03  14.6  \n",
       "479  383.32  13.11  21.4  \n",
       "480  396.90  10.74  23.0  \n",
       "481  393.07   7.74  23.7  \n",
       "482  395.28   7.01  25.0  \n",
       "483  392.92  10.42  21.8  \n",
       "484  370.73  13.34  20.6  \n",
       "485  388.62  10.58  21.2  \n",
       "486  392.68  14.98  19.1  \n",
       "487  388.22  11.45  20.6  \n",
       "488  395.09  18.06  15.2  \n",
       "489  344.05  23.97   7.0  \n",
       "490  318.43  29.68   8.1  \n",
       "491  390.11  18.07  13.6  \n",
       "492  396.90  13.35  20.1  \n",
       "493  396.90  12.01  21.8  \n",
       "494  396.90  13.59  24.5  \n",
       "495  393.29  17.60  23.1  \n",
       "496  396.90  21.14  19.7  \n",
       "497  396.90  14.10  18.3  \n",
       "498  396.90  12.92  21.2  \n",
       "499  395.77  15.10  17.5  \n",
       "500  396.90  14.33  16.8  \n",
       "501  391.99   9.67  22.4  \n",
       "502  396.90   9.08  20.6  \n",
       "503  396.90   5.64  23.9  \n",
       "504  393.45   6.48  22.0  \n",
       "505  396.90   7.88  11.9  \n",
       "\n",
       "[506 rows x 14 columns]"
      ]
     },
     "execution_count": 23,
     "metadata": {},
     "output_type": "execute_result"
    }
   ],
   "source": [
    "with open(\"housing.data\", \"r\") as f:\n",
    "    data = pd.read_csv(f, delimiter=\"\\s+\", header=None)\n",
    "data"
   ]
  },
  {
   "cell_type": "markdown",
   "metadata": {},
   "source": [
    "Split de la base afin de créer une base d'apprentissage et de test pour l'évaluation du modèle"
   ]
  },
  {
   "cell_type": "code",
   "execution_count": 24,
   "metadata": {
    "scrolled": true
   },
   "outputs": [],
   "source": [
    "X = torch.from_numpy(np.array(data)[:,:-1])\n",
    "Y = torch.from_numpy(np.array(data)[:,-1]).reshape(-1,1)\n",
    "\n",
    "# Split\n",
    "X_train, X_test = X[:int(len(X)*0.7)], X[int(len(X)*0.7):]\n",
    "Y_train, Y_test = Y[:int(len(Y)*0.7)], Y[int(len(Y)*0.7):]\n",
    "\n",
    "mse = MSE()\n",
    "\n",
    "eps1, eps2, eps3 = 1e-9, 1e-10, 1e-4"
   ]
  },
  {
   "cell_type": "code",
   "execution_count": 25,
   "metadata": {},
   "outputs": [],
   "source": [
    "torch.set_default_tensor_type('torch.DoubleTensor')"
   ]
  },
  {
   "cell_type": "markdown",
   "metadata": {},
   "source": [
    "Stochastique"
   ]
  },
  {
   "cell_type": "code",
   "execution_count": 26,
   "metadata": {},
   "outputs": [
    {
     "data": {
      "image/png": "[encoded data removed]",
      "text/plain": [
       "<Figure size 432x288 with 1 Axes>"
      ]
     },
     "metadata": {},
     "output_type": "display_data"
    }
   ],
   "source": [
    "# TRAIN\n",
    "model = ModuleLinear(len(X[0]), 1)\n",
    "c = stochastique(X_train, Y_train, model, mse, epsilon=eps1)\n",
    "\n",
    "plt.plot(range(len(c)), c)\n",
    "plt.show()"
   ]
  },
  {
   "cell_type": "code",
   "execution_count": 27,
   "metadata": {},
   "outputs": [
    {
     "data": {
      "image/png": "[encoded data removed]",
      "text/plain": [
       "<Figure size 432x288 with 1 Axes>"
      ]
     },
     "metadata": {},
     "output_type": "display_data"
    }
   ],
   "source": [
    "#TEST\n",
    "model = ModuleLinear(len(X[0]), 1)\n",
    "c = stochastique(X_test, Y_test, model, mse, epsilon=eps1)\n",
    "\n",
    "plt.plot(range(len(c)), c)\n",
    "plt.show()"
   ]
  },
  {
   "cell_type": "code",
   "execution_count": 28,
   "metadata": {},
   "outputs": [
    {
     "data": {
      "image/png": "[encoded data removed]",
      "text/plain": [
       "<Figure size 432x288 with 1 Axes>"
      ]
     },
     "metadata": {},
     "output_type": "display_data"
    }
   ],
   "source": [
    "# TRAIN avec epsilon different\n",
    "c = stochastique(X_train, Y_train, ModuleLinear(len(X[0]), 1), mse, epsilon=eps2)\n",
    "plt.plot(range(len(c)), c)\n",
    "plt.show()"
   ]
  },
  {
   "cell_type": "code",
   "execution_count": 29,
   "metadata": {},
   "outputs": [
    {
     "data": {
      "image/png": "[encoded data removed]",
      "text/plain": [
       "<Figure size 432x288 with 1 Axes>"
      ]
     },
     "metadata": {},
     "output_type": "display_data"
    }
   ],
   "source": [
    "# TEST avec epsilon different\n",
    "c = stochastique(X_test, Y_test, ModuleLinear(len(X[0]), 1), mse, epsilon=eps2)\n",
    "plt.plot(range(len(c)), c)\n",
    "plt.show()"
   ]
  },
  {
   "cell_type": "markdown",
   "metadata": {},
   "source": [
    "L'erreur en test semble un peu plus élevé qu'en apprentissage mais baisse pareillement."
   ]
  },
  {
   "cell_type": "code",
   "execution_count": 30,
   "metadata": {},
   "outputs": [
    {
     "data": {
      "image/png": "[encoded data removed]",
      "text/plain": [
       "<Figure size 432x288 with 1 Axes>"
      ]
     },
     "metadata": {},
     "output_type": "display_data"
    }
   ],
   "source": [
    "# TRAIN avec un epsilon different\n",
    "model = ModuleLinear(len(X[0]), 1)\n",
    "c = stochastique(X_train, Y_train, model, mse, epsilon=eps3)\n",
    "\n",
    "plt.plot(range(len(c)), c)\n",
    "plt.show()"
   ]
  },
  {
   "cell_type": "markdown",
   "metadata": {},
   "source": [
    "Exemple de la courbe en apprentissage avec un epsilon trop grand"
   ]
  },
  {
   "cell_type": "markdown",
   "metadata": {},
   "source": [
    "Batch"
   ]
  },
  {
   "cell_type": "code",
   "execution_count": 31,
   "metadata": {},
   "outputs": [
    {
     "data": {
      "image/png": "[encoded data removed]",
      "text/plain": [
       "<Figure size 432x288 with 1 Axes>"
      ]
     },
     "metadata": {},
     "output_type": "display_data"
    }
   ],
   "source": [
    "# TRAIN\n",
    "c = batch(X_train, Y_train, ModuleLinear(len(X[0]), 1), epsilon=eps1)\n",
    "plt.plot(range(len(c)), c)\n",
    "plt.show()"
   ]
  },
  {
   "cell_type": "code",
   "execution_count": 32,
   "metadata": {
    "scrolled": true
   },
   "outputs": [
    {
     "data": {
      "image/png": "[encoded data removed]",
      "text/plain": [
       "<Figure size 432x288 with 1 Axes>"
      ]
     },
     "metadata": {},
     "output_type": "display_data"
    }
   ],
   "source": [
    "# TEST\n",
    "c = batch(X_test, Y_test, ModuleLinear(len(X[0]), 1), epsilon=eps1)\n",
    "plt.plot(range(len(c)), c)\n",
    "plt.show()"
   ]
  },
  {
   "cell_type": "markdown",
   "metadata": {},
   "source": [
    "Mini batch"
   ]
  },
  {
   "cell_type": "code",
   "execution_count": 33,
   "metadata": {},
   "outputs": [
    {
     "data": {
      "image/png": "[encoded data removed]",
      "text/plain": [
       "<Figure size 432x288 with 1 Axes>"
      ]
     },
     "metadata": {},
     "output_type": "display_data"
    }
   ],
   "source": [
    "# TRAIN\n",
    "c = mini_batch(X_train, Y_train, ModuleLinear(len(X[0]), 1), epsilon=eps1)\n",
    "plt.plot(range(len(c)), c)\n",
    "plt.show()"
   ]
  },
  {
   "cell_type": "code",
   "execution_count": 34,
   "metadata": {},
   "outputs": [
    {
     "data": {
      "image/png": "[encoded data removed]",
      "text/plain": [
       "<Figure size 432x288 with 1 Axes>"
      ]
     },
     "metadata": {},
     "output_type": "display_data"
    }
   ],
   "source": [
    "# TEST\n",
    "c = batch(X_test, Y_test, ModuleLinear(len(X[0]), 1), epsilon=eps2)\n",
    "plt.plot(range(len(c)), c)\n",
    "plt.show()"
   ]
  },
  {
   "cell_type": "markdown",
   "metadata": {},
   "source": [
    "Nous constatons que la version stochastique présente beaucoup d'oscillations tandis que les courbes pour le batch et minibatch sont plus stables et convergent rapidement. De plus, le pas d'apprentissage epsilon semble jouer un rôle capital sur la convergence."
   ]
  },
  {
   "cell_type": "markdown",
   "metadata": {},
   "source": [
    "---\n",
    "## Perceptron"
   ]
  },
  {
   "cell_type": "markdown",
   "metadata": {},
   "source": [
    "### Jeu de données : MINIST\n",
    "Chargement des données"
   ]
  },
  {
   "cell_type": "code",
   "execution_count": 59,
   "metadata": {
    "scrolled": true
   },
   "outputs": [
    {
     "name": "stdout",
     "output_type": "stream",
     "text": [
      "torch.Size([60000, 1, 28, 28])\n",
      "tensor([[2],\n",
      "        [3],\n",
      "        [2],\n",
      "        ...,\n",
      "        [1],\n",
      "        [1],\n",
      "        [5]])\n",
      "torch.Size([60000, 10])\n"
     ]
    }
   ],
   "source": [
    "## une fois le dataset telecharge, mettre download=False !\n",
    "## Pour le test, train = False\n",
    "## transform permet de faire un preprocessing des donnees (ici ?)\n",
    "batch_size=60000\n",
    "nb_digits=10\n",
    "train_loader = torch.utils.data.DataLoader(datasets.MNIST('./data', train=True, download=True, \n",
    "                                                          transform=transforms.Compose([transforms.ToTensor(), \n",
    "                                                                                        transforms.Normalize((0.1307,),\n",
    "                                                                                                             (0.3081,))])), \n",
    "                                           batch_size=batch_size, shuffle=True) \n",
    "\n",
    "y_onehot = torch.FloatTensor(batch_size, nb_digits) \n",
    "\n",
    "for i,(data,target) in enumerate(train_loader):\n",
    "    #print(i,data.size(),data.type(),target.size(),\n",
    "    #   target.type())\n",
    "    # do something...\n",
    "    X = data\n",
    "    print(X.shape)\n",
    "\n",
    "    print(target.view(-1,1))\n",
    "    ## Encoding des labels en onehot\n",
    "    y_onehot.zero_()\n",
    "    y_onehot.scatter_(1, target.view(-1,1), 1)\n",
    "\n",
    "    print(y_onehot.shape)\n",
    "    break\n",
    "    \n"
   ]
  },
  {
   "cell_type": "code",
   "execution_count": 60,
   "metadata": {},
   "outputs": [],
   "source": [
    "X = X.reshape(60000,28*28)\n",
    "Y = y_onehot"
   ]
  },
  {
   "cell_type": "code",
   "execution_count": 61,
   "metadata": {},
   "outputs": [],
   "source": [
    "X = torch.cat((X[Y[:,0] == 1], X[Y[:,1] == 1], X[Y[:,2] == 1]))\n",
    "Y = torch.cat((Y[Y[:,0] == 1], Y[Y[:,1] == 1], Y[Y[:,2] == 1]))"
   ]
  },
  {
   "cell_type": "code",
   "execution_count": 5,
   "metadata": {},
   "outputs": [
    {
     "data": {
      "text/plain": [
       "<matplotlib.image.AxesImage at 0x7efe51326390>"
      ]
     },
     "execution_count": 5,
     "metadata": {},
     "output_type": "execute_result"
    },
    {
     "data": {
      "image/png": "[encoded data removed]",
      "text/plain": [
       "<Figure size 432x288 with 1 Axes>"
      ]
     },
     "metadata": {},
     "output_type": "display_data"
    }
   ],
   "source": [
    "plt.imshow(train_loader.dataset.train_data[5])"
   ]
  },
  {
   "cell_type": "markdown",
   "metadata": {},
   "source": [
    "### Multi-classes"
   ]
  },
  {
   "cell_type": "markdown",
   "metadata": {},
   "source": [
    "Stochastique"
   ]
  },
  {
   "cell_type": "code",
   "execution_count": 17,
   "metadata": {},
   "outputs": [
    {
     "data": {
      "image/png": "[encoded data removed]",
      "text/plain": [
       "<Figure size 432x288 with 1 Axes>"
      ]
     },
     "metadata": {},
     "output_type": "display_data"
    }
   ],
   "source": [
    "model = ModuleLinear(len(X[0]), 10)\n",
    "c = stochastique(X, Y, model, Hinge(), epsilon=5e-4)\n",
    "\n",
    "plt.plot(range(len(c)), c)\n",
    "plt.show()"
   ]
  },
  {
   "cell_type": "markdown",
   "metadata": {},
   "source": [
    "Batch"
   ]
  },
  {
   "cell_type": "code",
   "execution_count": 18,
   "metadata": {
    "scrolled": true
   },
   "outputs": [
    {
     "data": {
      "image/png": "[encoded data removed]",
      "text/plain": [
       "<Figure size 432x288 with 1 Axes>"
      ]
     },
     "metadata": {},
     "output_type": "display_data"
    }
   ],
   "source": [
    "model = ModuleLinear(len(X[0]), 10)\n",
    "c = batch(X, Y, model, Hinge(), epsilon=5e-4)\n",
    "\n",
    "plt.plot(range(len(c)), c)\n",
    "plt.show()"
   ]
  },
  {
   "cell_type": "markdown",
   "metadata": {},
   "source": [
    "Minibatch"
   ]
  },
  {
   "cell_type": "code",
   "execution_count": 19,
   "metadata": {},
   "outputs": [
    {
     "data": {
      "image/png": "[encoded data removed]",
      "text/plain": [
       "<Figure size 432x288 with 1 Axes>"
      ]
     },
     "metadata": {},
     "output_type": "display_data"
    }
   ],
   "source": [
    "model = ModuleLinear(len(X[0]), 10)\n",
    "c = mini_batch(X, Y, model, Hinge(), epsilon=5e-4)\n",
    "\n",
    "plt.plot(range(len(c)), c)\n",
    "plt.show()"
   ]
  },
  {
   "cell_type": "markdown",
   "metadata": {},
   "source": [
    "### Binaire"
   ]
  },
  {
   "cell_type": "code",
   "execution_count": 20,
   "metadata": {},
   "outputs": [],
   "source": [
    "X0 = X[Y[:,0]==1]\n",
    "Y0 = Y[Y[:,0]==1]\n",
    "\n",
    "X1 = X[Y[:,1]==1]\n",
    "Y1 = Y[Y[:,1]==1]"
   ]
  },
  {
   "cell_type": "code",
   "execution_count": 21,
   "metadata": {},
   "outputs": [
    {
     "data": {
      "text/plain": [
       "(84, 84, 134, 134)"
      ]
     },
     "execution_count": 21,
     "metadata": {},
     "output_type": "execute_result"
    }
   ],
   "source": [
    "len(X0), len(Y0), len(X1), len(Y1)"
   ]
  },
  {
   "cell_type": "code",
   "execution_count": 22,
   "metadata": {},
   "outputs": [
    {
     "data": {
      "image/png": "[encoded data removed]",
      "text/plain": [
       "<Figure size 432x288 with 1 Axes>"
      ]
     },
     "metadata": {},
     "output_type": "display_data"
    }
   ],
   "source": [
    "model = ModuleLinear(len(X[0]), 10)\n",
    "c = stochastique(X, Y, model, Hinge(), epsilon=5e-4)\n",
    "\n",
    "plt.plot(range(len(c)), c)\n",
    "plt.show()"
   ]
  },
  {
   "cell_type": "markdown",
   "metadata": {},
   "source": [
    "---\n",
    "## Regression logistique et fonction d’activation"
   ]
  },
  {
   "cell_type": "markdown",
   "metadata": {},
   "source": [
    "### Implémentation"
   ]
  },
  {
   "cell_type": "markdown",
   "metadata": {},
   "source": [
    "Fonctions d'activation et dérivées"
   ]
  },
  {
   "cell_type": "code",
   "execution_count": 35,
   "metadata": {},
   "outputs": [],
   "source": [
    "def tanh_g(x):\n",
    "    return 1-np.tanh(x)**2\n",
    "\n",
    "def sigmoid(x):\n",
    "    return 1 / (1 + np.exp(-x))\n",
    "\n",
    "def sigmoid_g(x):\n",
    "    return sigmoid(x)*(1-sigmoid(x))"
   ]
  },
  {
   "cell_type": "markdown",
   "metadata": {},
   "source": [
    "Régression logistique"
   ]
  },
  {
   "cell_type": "code",
   "execution_count": 36,
   "metadata": {},
   "outputs": [],
   "source": [
    "class ActivationFunction(Module):\n",
    "    def __init__(self, fonc, foncg):\n",
    "        self.fonc = fonc\n",
    "        self.foncg = foncg\n",
    "    \n",
    "    def forward(self, x):\n",
    "        return self.fonc(x)\n",
    "    \n",
    "    def backward_delta(self, x, delta):\n",
    "        return self.foncg(x)*delta\n",
    "\n",
    "\n",
    "class CE(Loss):\n",
    "    # Cross Entropy\n",
    "    def forward(self, y, ypred):\n",
    "        #print(( y*np.log(ypred) + (1-y)*np.log(1-ypred) ).sum())\n",
    "        return ( -1*y*np.log(ypred) - (1-y)*np.log(1-ypred) ).sum()\n",
    "        \n",
    "    def backward(self, y, ypred):\n",
    "        return -1*y/ypred + (1-y)/(1-ypred)"
   ]
  },
  {
   "cell_type": "code",
   "execution_count": 37,
   "metadata": {},
   "outputs": [],
   "source": [
    "def stochastique(X, Y, module, activ, loss=MSE(), epsilon=0.005, max_iter=10):\n",
    "    cout = []\n",
    "    for i in range(max_iter):\n",
    "        inds = list(range(len(X)))\n",
    "        np.random.shuffle(inds)\n",
    "        for x, y in zip(X[inds], Y[inds]):\n",
    "            x, y = x.reshape(1, -1), y.reshape(1,-1)\n",
    "            \n",
    "            module.zero_grad()\n",
    "            s = module.forward(x)\n",
    "            ypred = activ.forward(s)\n",
    "            \n",
    "            delta = loss.backward(y, ypred)\n",
    "            delta = activ.backward_delta(s, delta)\n",
    "            \n",
    "            module.backward_update_gradient(x, delta)\n",
    "            module.update_parameters(epsilon=epsilon)\n",
    "            \n",
    "            cout.append(loss.forward(y, ypred))\n",
    "            \n",
    "    return cout\n",
    "\n",
    "\n",
    "def batch(X, Y, module, activ, loss=MSE(), epsilon=0.05, max_iter=100):\n",
    "    cout = []\n",
    "    for i in range(max_iter):\n",
    "        module.zero_grad()\n",
    "        s = module.forward(X)\n",
    "        ypred = activ.forward(s)\n",
    "\n",
    "        delta = loss.backward(Y, ypred)\n",
    "        delta = activ.backward_delta(s, delta)\n",
    "\n",
    "        module.backward_update_gradient(X, delta)\n",
    "        module.update_parameters(epsilon=epsilon)\n",
    "\n",
    "        cout.append(loss.forward(Y, ypred))\n",
    "    return cout\n",
    "\n",
    "\n",
    "def mini_batch(X, Y, module, activ, loss=MSE(), n=50, epsilon=0.05, max_iter=100):\n",
    "    cout = []\n",
    "    for i in range(max_iter):\n",
    "        inds = list(range(len(X)))[:n]\n",
    "        np.random.shuffle(inds)\n",
    "\n",
    "        module.zero_grad()\n",
    "        s = module.forward(X[inds])\n",
    "        ypred = activ.forward(s)\n",
    "\n",
    "        delta = loss.backward(Y[inds], ypred)\n",
    "        delta = activ.backward_delta(s, delta)\n",
    "\n",
    "        module.backward_update_gradient(X[inds], delta)\n",
    "        module.update_parameters(epsilon=epsilon)\n",
    "\n",
    "        cout.append(loss.forward(Y[inds], ypred))\n",
    "            \n",
    "    return cout"
   ]
  },
  {
   "cell_type": "code",
   "execution_count": 60,
   "metadata": {},
   "outputs": [
    {
     "data": {
      "image/png": "[encoded data removed]",
      "text/plain": [
       "<Figure size 720x360 with 1 Axes>"
      ]
     },
     "metadata": {},
     "output_type": "display_data"
    }
   ],
   "source": [
    "model = ModuleLinear(len(X[0]), 10)\n",
    "fa = ActivationFunction(sigmoid, sigmoid_g)\n",
    "\n",
    "c = stochastique(X, Y, model, fa, MSE(), epsilon=3e-1)\n",
    "\n",
    "plt.figure(figsize=(10, 5))\n",
    "plt.plot(range(len(c)), c)\n",
    "plt.show()"
   ]
  },
  {
   "cell_type": "code",
   "execution_count": 85,
   "metadata": {},
   "outputs": [
    {
     "data": {
      "image/png": "[encoded data removed]",
      "text/plain": [
       "<Figure size 720x360 with 1 Axes>"
      ]
     },
     "metadata": {},
     "output_type": "display_data"
    }
   ],
   "source": [
    "model = ModuleLinear(len(X[0]), 10)\n",
    "fa = ActivationFunction(np.tanh, tanh_g)\n",
    "\n",
    "c = stochastique(X, Y, model, fa, MSE(), epsilon=1000000)\n",
    "\n",
    "plt.figure(figsize=(10, 5))\n",
    "plt.plot(range(len(c)), c)\n",
    "plt.show()"
   ]
  },
  {
   "cell_type": "code",
   "execution_count": 42,
   "metadata": {},
   "outputs": [
    {
     "data": {
      "image/png": "[encoded data removed]",
      "text/plain": [
       "<Figure size 720x360 with 1 Axes>"
      ]
     },
     "metadata": {},
     "output_type": "display_data"
    }
   ],
   "source": [
    "model = ModuleLinear(len(X[0]), 10)\n",
    "fa = ActivationFunction(sigmoid, sigmoid_g)\n",
    "\n",
    "c = batch(X, Y, model, fa, MSE(), epsilon=1e-1)\n",
    "\n",
    "plt.figure(figsize=(10, 5))\n",
    "plt.plot(range(len(c)), c)\n",
    "plt.show()"
   ]
  },
  {
   "cell_type": "code",
   "execution_count": 64,
   "metadata": {},
   "outputs": [
    {
     "data": {
      "image/png": "[encoded data removed]",
      "text/plain": [
       "<Figure size 720x360 with 1 Axes>"
      ]
     },
     "metadata": {},
     "output_type": "display_data"
    }
   ],
   "source": [
    "model = ModuleLinear(len(X[0]), 10)\n",
    "fa = ActivationFunction(np.tanh, tanh_g)\n",
    "\n",
    "c = batch(X, Y, model, fa, MSE(), epsilon=1e-1)\n",
    "\n",
    "plt.figure(figsize=(10, 5))\n",
    "plt.plot(range(len(c)), c)\n",
    "plt.show()"
   ]
  },
  {
   "cell_type": "code",
   "execution_count": 51,
   "metadata": {},
   "outputs": [
    {
     "data": {
      "image/png": "[encoded data removed]",
      "text/plain": [
       "<Figure size 720x360 with 1 Axes>"
      ]
     },
     "metadata": {},
     "output_type": "display_data"
    }
   ],
   "source": [
    "model = ModuleLinear(len(X[0]), 10)\n",
    "fa = ActivationFunction(sigmoid, sigmoid_g)\n",
    "\n",
    "c = mini_batch(X, Y, model, fa, MSE(), epsilon=1e-1)\n",
    "\n",
    "plt.figure(figsize=(10, 5))\n",
    "plt.plot(range(len(c)), c)\n",
    "plt.show()"
   ]
  },
  {
   "cell_type": "code",
   "execution_count": 52,
   "metadata": {},
   "outputs": [
    {
     "data": {
      "image/png": "[encoded data removed]",
      "text/plain": [
       "<Figure size 720x360 with 1 Axes>"
      ]
     },
     "metadata": {},
     "output_type": "display_data"
    }
   ],
   "source": [
    "model = ModuleLinear(len(X[0]), 10)\n",
    "fa = ActivationFunction(np.tanh, tanh_g)\n",
    "\n",
    "c = mini_batch(X, Y, model, fa, MSE(), epsilon=1e-5)\n",
    "\n",
    "plt.figure(figsize=(10, 5))\n",
    "plt.plot(range(len(c)), c)\n",
    "plt.show()"
   ]
  },
  {
   "cell_type": "markdown",
   "metadata": {},
   "source": [
    "### Test sur le jeu de données MINIST"
   ]
  },
  {
   "cell_type": "code",
   "execution_count": 29,
   "metadata": {},
   "outputs": [],
   "source": [
    "def stochastique(X, Y, module, loss=MSE(), epsilon=0.005, max_iter=10):\n",
    "    cout = []\n",
    "    for i in range(max_iter):\n",
    "        inds = list(range(len(X)))\n",
    "        np.random.shuffle(inds)\n",
    "        for x, y in zip(X[inds], Y[inds]):\n",
    "            x, y = x.reshape(1, -1), y.reshape(1,-1)\n",
    "            module.zero_grad()\n",
    "            ypred = module.forward(x)\n",
    "            delta = loss.backward(y, ypred)\n",
    "            delta = module.backward_delta(x, delta)\n",
    "            module.backward_update_gradient(x, delta)\n",
    "            module.update_parameters(epsilon=epsilon)\n",
    "            \n",
    "            cout.append(loss.forward(y, ypred))\n",
    "    return cout"
   ]
  },
  {
   "cell_type": "code",
   "execution_count": 17,
   "metadata": {},
   "outputs": [
    {
     "data": {
      "image/png": "[encoded data removed]",
      "text/plain": [
       "<Figure size 432x288 with 1 Axes>"
      ]
     },
     "metadata": {},
     "output_type": "display_data"
    }
   ],
   "source": [
    "model = RegLog(len(X[0]), 10, sigmoid, sigmoid_g)\n",
    "c = stochastique(X, Y, model, CE(), epsilon=5e-15)\n",
    "\n",
    "plt.plot(range(len(c)), c)\n",
    "plt.show()"
   ]
  },
  {
   "cell_type": "code",
   "execution_count": null,
   "metadata": {},
   "outputs": [],
   "source": [
    "model = RegLog(len(X[0]), 10, sigmoid, sigmoid_g)\n",
    "c = stochastique(X, Y, model, CE(), epsilon=5e-15)\n",
    "\n",
    "plt.plot(range(len(c)), c)\n",
    "plt.show()"
   ]
  },
  {
   "cell_type": "code",
   "execution_count": 18,
   "metadata": {},
   "outputs": [],
   "source": [
    "def mini_batch(X, Y, module, loss=MSE(), n=50, epsilon=0.05, max_iter=100):\n",
    "    cout = []\n",
    "    for i in range(max_iter):\n",
    "        inds = list(range(len(X)))[:n]\n",
    "        np.random.shuffle(inds)\n",
    "\n",
    "        module.zero_grad()\n",
    "        \n",
    "        ypred = module.forward(X[inds])\n",
    "        delta = loss.backward(Y[inds], ypred)\n",
    "        delta = module.backward_delta(X[inds], delta)\n",
    "        module.backward_update_gradient(X[inds], delta)\n",
    "        \n",
    "        module.update_parameters(epsilon=epsilon)\n",
    "\n",
    "        cout.append(loss.forward(Y[inds], ypred))\n",
    "            \n",
    "    return cout"
   ]
  },
  {
   "cell_type": "code",
   "execution_count": 22,
   "metadata": {},
   "outputs": [
    {
     "data": {
      "image/png": "[encoded data removed]",
      "text/plain": [
       "<Figure size 432x288 with 1 Axes>"
      ]
     },
     "metadata": {},
     "output_type": "display_data"
    }
   ],
   "source": [
    "model = RegLog(len(X[0]), 10, sigmoid, sigmoid_g)\n",
    "c = mini_batch(X, Y, model, CE(), epsilon=5e-12)\n",
    "\n",
    "plt.plot(range(len(c)), c)\n",
    "plt.show()"
   ]
  },
  {
   "cell_type": "code",
   "execution_count": 39,
   "metadata": {},
   "outputs": [
    {
     "ename": "NameError",
     "evalue": "name 'RegLog' is not defined",
     "output_type": "error",
     "traceback": [
      "\u001b[0;31m---------------------------------------------------------------------------\u001b[0m",
      "\u001b[0;31mNameError\u001b[0m                                 Traceback (most recent call last)",
      "\u001b[0;32m<ipython-input-39-c1878829917c>\u001b[0m in \u001b[0;36m<module>\u001b[0;34m()\u001b[0m\n\u001b[0;32m----> 1\u001b[0;31m \u001b[0mmodel\u001b[0m \u001b[0;34m=\u001b[0m \u001b[0mRegLog\u001b[0m\u001b[0;34m(\u001b[0m\u001b[0mlen\u001b[0m\u001b[0;34m(\u001b[0m\u001b[0mX\u001b[0m\u001b[0;34m[\u001b[0m\u001b[0;36m0\u001b[0m\u001b[0;34m]\u001b[0m\u001b[0;34m)\u001b[0m\u001b[0;34m,\u001b[0m \u001b[0;36m10\u001b[0m\u001b[0;34m,\u001b[0m \u001b[0msigmoid\u001b[0m\u001b[0;34m,\u001b[0m \u001b[0msigmoid_g\u001b[0m\u001b[0;34m)\u001b[0m\u001b[0;34m\u001b[0m\u001b[0m\n\u001b[0m\u001b[1;32m      2\u001b[0m \u001b[0mc\u001b[0m \u001b[0;34m=\u001b[0m \u001b[0mbatch\u001b[0m\u001b[0;34m(\u001b[0m\u001b[0mX\u001b[0m\u001b[0;34m,\u001b[0m \u001b[0mY\u001b[0m\u001b[0;34m,\u001b[0m \u001b[0mmodel\u001b[0m\u001b[0;34m,\u001b[0m \u001b[0mCE\u001b[0m\u001b[0;34m(\u001b[0m\u001b[0;34m)\u001b[0m\u001b[0;34m,\u001b[0m \u001b[0mepsilon\u001b[0m\u001b[0;34m=\u001b[0m\u001b[0;36m5e-8\u001b[0m\u001b[0;34m)\u001b[0m\u001b[0;34m\u001b[0m\u001b[0m\n\u001b[1;32m      3\u001b[0m \u001b[0;34m\u001b[0m\u001b[0m\n\u001b[1;32m      4\u001b[0m \u001b[0mplt\u001b[0m\u001b[0;34m.\u001b[0m\u001b[0mplot\u001b[0m\u001b[0;34m(\u001b[0m\u001b[0mrange\u001b[0m\u001b[0;34m(\u001b[0m\u001b[0mlen\u001b[0m\u001b[0;34m(\u001b[0m\u001b[0mc\u001b[0m\u001b[0;34m)\u001b[0m\u001b[0;34m)\u001b[0m\u001b[0;34m,\u001b[0m \u001b[0mc\u001b[0m\u001b[0;34m)\u001b[0m\u001b[0;34m\u001b[0m\u001b[0m\n\u001b[1;32m      5\u001b[0m \u001b[0mplt\u001b[0m\u001b[0;34m.\u001b[0m\u001b[0mshow\u001b[0m\u001b[0;34m(\u001b[0m\u001b[0;34m)\u001b[0m\u001b[0;34m\u001b[0m\u001b[0m\n",
      "\u001b[0;31mNameError\u001b[0m: name 'RegLog' is not defined"
     ]
    }
   ],
   "source": [
    "model = RegLog(len(X[0]), 10, sigmoid, sigmoid_g)\n",
    "c = batch(X, Y, model, CE(), epsilon=5e-8)\n",
    "\n",
    "plt.plot(range(len(c)), c)\n",
    "plt.show()"
   ]
  },
  {
   "cell_type": "markdown",
   "metadata": {},
   "source": [
    "# Concatenation"
   ]
  },
  {
   "cell_type": "code",
   "execution_count": 62,
   "metadata": {},
   "outputs": [
    {
     "data": {
      "image/png": "[encoded data removed]",
      "text/plain": [
       "<Figure size 432x288 with 1 Axes>"
      ]
     },
     "metadata": {},
     "output_type": "display_data"
    },
    {
     "data": {
      "image/png": "[encoded data removed]",
      "text/plain": [
       "<Figure size 432x288 with 1 Axes>"
      ]
     },
     "metadata": {},
     "output_type": "display_data"
    }
   ],
   "source": [
    "model1 = ModuleLinear(len(X[0]), 15)\n",
    "activ1 = ActivationFunction(np.tanh, tanh_g)\n",
    "model2 = ModuleLinear(15, 10)\n",
    "activ2 = ActivationFunction(sigmoid, sigmoid_g)\n",
    "loss = MSE()\n",
    "\n",
    "epsilon=1e-3\n",
    "\n",
    "cout = []\n",
    "score = []\n",
    "\n",
    "for i in range(2000):\n",
    "    # Initialisation\n",
    "    model1.zero_grad()\n",
    "    model2.zero_grad()\n",
    "    \n",
    "    s1 = model1.forward(X)\n",
    "    ypred1 = activ1.forward(s1)\n",
    "    s2 = model2.forward(ypred1)\n",
    "    ypred2 = activ2.forward(s2)\n",
    "\n",
    "    delta2 = loss.backward(Y, ypred2)\n",
    "    deltas2 = activ2.backward_delta(s2, delta2)\n",
    "\n",
    "    model2.backward_update_gradient(ypred1, deltas2)\n",
    "    model2.update_parameters(epsilon=epsilon)\n",
    "    \n",
    "    delta1 = model2.backward_delta(ypred1, deltas2)\n",
    "    deltas1 = activ1.backward_delta(s1, delta1)\n",
    "    \n",
    "    model1.backward_update_gradient(X, deltas1)\n",
    "    model1.update_parameters(epsilon=epsilon)\n",
    "\n",
    "    cout.append(loss.forward(Y, ypred2))\n",
    "    \n",
    "    if i%10 == 0:\n",
    "        # Calcul du score\n",
    "        for i in range(len(ypred2)):\n",
    "            ind = torch.argmax(ypred2[i])\n",
    "            ypred2[i].zero_()\n",
    "            ypred2[i][ind] = 1\n",
    "        tmp = ((ypred2 - Y)**2).sum(1)\n",
    "        score.append( len(tmp[tmp==0])/len(Y) )\n",
    "        # -------\"\"\"\n",
    "\n",
    "\n",
    "plt.plot(range(len(cout)), cout)\n",
    "plt.show()\n",
    "\n",
    "plt.plot(range(len(score)), score)\n",
    "plt.show()"
   ]
  },
  {
   "cell_type": "code",
   "execution_count": 57,
   "metadata": {},
   "outputs": [
    {
     "data": {
      "image/png": "[encoded data removed]",
      "text/plain": [
       "<Figure size 432x288 with 1 Axes>"
      ]
     },
     "metadata": {},
     "output_type": "display_data"
    },
    {
     "data": {
      "image/png": "[encoded data removed]",
      "text/plain": [
       "<Figure size 432x288 with 1 Axes>"
      ]
     },
     "metadata": {},
     "output_type": "display_data"
    }
   ],
   "source": [
    "model1 = ModuleLinear(len(X[0]), 15)\n",
    "activ1 = ActivationFunction(np.tanh, tanh_g)\n",
    "model2 = ModuleLinear(15, 10)\n",
    "activ2 = ActivationFunction(sigmoid, sigmoid_g)\n",
    "loss = MSE()\n",
    "\n",
    "epsilon=1e-2\n",
    "\n",
    "cout = []\n",
    "score = []\n",
    "\n",
    "for i in range(2000):\n",
    "    # Initialisation\n",
    "    model1.zero_grad()\n",
    "    model2.zero_grad()\n",
    "    \n",
    "    s1 = model1.forward(X)\n",
    "    ypred1 = activ1.forward(s1)\n",
    "    s2 = model2.forward(ypred1)\n",
    "    ypred2 = activ2.forward(s2)\n",
    "\n",
    "    delta2 = loss.backward(Y, ypred2)\n",
    "    deltas2 = activ2.backward_delta(s2, delta2)\n",
    "\n",
    "    model2.backward_update_gradient(ypred1, deltas2)\n",
    "    model2.update_parameters(epsilon=epsilon)\n",
    "    \n",
    "    delta1 = model2.backward_delta(ypred1, deltas2)\n",
    "    deltas1 = activ1.backward_delta(s1, delta1)\n",
    "    \n",
    "    model1.backward_update_gradient(X, deltas1)\n",
    "    model1.update_parameters(epsilon=epsilon)\n",
    "\n",
    "    cout.append(loss.forward(Y, ypred2))\n",
    "    \n",
    "    if i%10 == 0:\n",
    "        # Calcul du score\n",
    "        for i in range(len(ypred2)):\n",
    "            ind = torch.argmax(ypred2[i])\n",
    "            ypred2[i].zero_()\n",
    "            ypred2[i][ind] = 1\n",
    "        tmp = ((ypred2 - Y)**2).sum(1)\n",
    "        score.append( len(tmp[tmp==0])/len(Y) )\n",
    "        # -------\"\"\"\n",
    "\n",
    "\n",
    "plt.plot(range(len(cout)), cout)\n",
    "plt.show()\n",
    "\n",
    "plt.plot(range(len(score)), score)\n",
    "plt.show()"
   ]
  },
  {
   "cell_type": "code",
   "execution_count": null,
   "metadata": {},
   "outputs": [],
   "source": [
    "model1 = ModuleLinear(len(X[0]), 15)\n",
    "activ1 = ActivationFunction(np.tanh, tanh_g)\n",
    "model2 = ModuleLinear(15, 10)\n",
    "activ2 = ActivationFunction(sigmoid, sigmoid_g)\n",
    "loss = MSE()\n",
    "\n",
    "epsilon=1e-5\n",
    "\n",
    "cout = []\n",
    "score = []\n",
    "\n",
    "for i in range(10):\n",
    "    ypred = torch.zeros(60000, 10)\n",
    "    \n",
    "    inds = list(range(len(X)))\n",
    "    np.random.shuffle(inds)\n",
    "    for i, (x, y) in enumerate(zip(X[inds], Y[inds])):\n",
    "        x, y = x.reshape(1, -1), y.reshape(1,-1)\n",
    "    \n",
    "        # Initialisation\n",
    "        model1.zero_grad()\n",
    "        model2.zero_grad()\n",
    "\n",
    "        s1 = model1.forward(x)\n",
    "        ypred1 = activ1.forward(s1)\n",
    "        s2 = model2.forward(ypred1)\n",
    "        ypred2 = activ2.forward(s2)\n",
    "\n",
    "        delta2 = loss.backward(y, ypred2)\n",
    "        deltas2 = activ2.backward_delta(s2, delta2)\n",
    "\n",
    "        model2.backward_update_gradient(ypred1, deltas2)\n",
    "        model2.update_parameters(epsilon=epsilon)\n",
    "\n",
    "        delta1 = model2.backward_delta(ypred1, deltas2)\n",
    "        deltas1 = activ1.backward_delta(s1, delta1)\n",
    "\n",
    "        model1.backward_update_gradient(x, deltas1)\n",
    "        model1.update_parameters(epsilon=epsilon)\n",
    "\n",
    "        ypred[i] = ypred2\n",
    "        \n",
    "    cout.append(loss.forward(Y, ypred))\n",
    "    \n",
    "    # Calcul du score\n",
    "    for i in range(len(ypred)):\n",
    "        ind = torch.argmax(ypred[i])\n",
    "        ypred[i].zero_()\n",
    "        ypred[i][ind] = 1\n",
    "    tmp = ((ypred - Y)**2).sum(1)\n",
    "    score.append( len(tmp[tmp==0])/len(Y) )\n",
    "    # -------\n",
    "\n",
    "\n",
    "plt.plot(range(len(cout)), cout)\n",
    "plt.show()\n",
    "\n",
    "plt.plot(range(len(score)), score)\n",
    "plt.show()"
   ]
  },
  {
   "cell_type": "raw",
   "metadata": {},
   "source": [
    "module : w forward\n",
    "m1 = module(..)\n",
    "m2 = module(..)\n",
    "x2 = m1.forward(x)\n",
    "ypred = m2.forward(x2)\n",
    "l = loss(ypred)\n",
    "l.backward\n",
    "m1.w.grad ?? peut etre x\n",
    "m2.w.grad"
   ]
  },
  {
   "cell_type": "code",
   "execution_count": null,
   "metadata": {},
   "outputs": [],
   "source": []
  }
 ],
 "metadata": {
  "kernelspec": {
   "display_name": "Python 3",
   "language": "python",
   "name": "python3"
  },
  "language_info": {
   "codemirror_mode": {
    "name": "ipython",
    "version": 3
   },
   "file_extension": ".py",
   "mimetype": "text/x-python",
   "name": "python",
   "nbconvert_exporter": "python",
   "pygments_lexer": "ipython3",
   "version": "3.6.5"
  }
 },
 "nbformat": 4,
 "nbformat_minor": 2
}
