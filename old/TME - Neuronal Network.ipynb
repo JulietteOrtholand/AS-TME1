{
 "cells": [
  {
   "cell_type": "markdown",
   "metadata": {},
   "source": [
    "# AS - TME3\n",
    "----\n",
    "2018-2019\n",
    "\n",
    "BINOME : Juliette ORTHOLAND, Stieban FERNANDEZ"
   ]
  },
  {
   "cell_type": "markdown",
   "metadata": {},
   "source": [
    "#### Librairies utiles"
   ]
  },
  {
   "cell_type": "code",
   "execution_count": 1,
   "metadata": {},
   "outputs": [],
   "source": [
    "import pandas as pd\n",
    "import numpy as np\n",
    "import torch\n",
    "from torchvision import datasets, transforms\n",
    "\n",
    "import losses as ls\n",
    "import modules as mdl\n",
    "import neuronalNetwork as nnet\n",
    "\n",
    "\n",
    "import matplotlib.pyplot as plt"
   ]
  },
  {
   "cell_type": "code",
   "execution_count": 2,
   "metadata": {},
   "outputs": [],
   "source": [
    "tanh = lambda x: np.tanh(x)\n",
    "\n",
    "tanh_g = lambda x: 1-np.tanh(x)**2\n",
    "\n",
    "sigmoid = lambda x: 1 / (1 + np.exp(-x))\n",
    "\n",
    "sigmoid_g = lambda x: sigmoid(x)*(1-sigmoid(x))"
   ]
  },
  {
   "cell_type": "code",
   "execution_count": 3,
   "metadata": {},
   "outputs": [
    {
     "data": {
      "text/plain": [
       "tensor(3.)"
      ]
     },
     "execution_count": 3,
     "metadata": {},
     "output_type": "execute_result"
    }
   ],
   "source": [
    "torch.tensor(3).float()"
   ]
  },
  {
   "cell_type": "markdown",
   "metadata": {},
   "source": [
    "## Chargement des données"
   ]
  },
  {
   "cell_type": "markdown",
   "metadata": {},
   "source": [
    "### Jeu de données : Boston Housing"
   ]
  },
  {
   "cell_type": "code",
   "execution_count": 4,
   "metadata": {},
   "outputs": [
    {
     "ename": "FileNotFoundError",
     "evalue": "[Errno 2] No such file or directory: '../data/housing.data'",
     "output_type": "error",
     "traceback": [
      "\u001b[1;31m---------------------------------------------------------------------------\u001b[0m",
      "\u001b[1;31mFileNotFoundError\u001b[0m                         Traceback (most recent call last)",
      "\u001b[1;32m<ipython-input-4-78dcb4df5494>\u001b[0m in \u001b[0;36m<module>\u001b[1;34m()\u001b[0m\n\u001b[1;32m----> 1\u001b[1;33m \u001b[1;32mwith\u001b[0m \u001b[0mopen\u001b[0m\u001b[1;33m(\u001b[0m\u001b[1;34m\"../data/housing.data\"\u001b[0m\u001b[1;33m,\u001b[0m \u001b[1;34m\"r\"\u001b[0m\u001b[1;33m)\u001b[0m \u001b[1;32mas\u001b[0m \u001b[0mf\u001b[0m\u001b[1;33m:\u001b[0m\u001b[1;33m\u001b[0m\u001b[0m\n\u001b[0m\u001b[0;32m      2\u001b[0m     \u001b[0mdata\u001b[0m \u001b[1;33m=\u001b[0m \u001b[0mpd\u001b[0m\u001b[1;33m.\u001b[0m\u001b[0mread_csv\u001b[0m\u001b[1;33m(\u001b[0m\u001b[0mf\u001b[0m\u001b[1;33m,\u001b[0m \u001b[0mdelimiter\u001b[0m\u001b[1;33m=\u001b[0m\u001b[1;34m\"\\s+\"\u001b[0m\u001b[1;33m,\u001b[0m \u001b[0mheader\u001b[0m\u001b[1;33m=\u001b[0m\u001b[1;32mNone\u001b[0m\u001b[1;33m)\u001b[0m\u001b[1;33m\u001b[0m\u001b[0m\n\u001b[0;32m      3\u001b[0m \u001b[0mdata\u001b[0m\u001b[1;33m\u001b[0m\u001b[0m\n",
      "\u001b[1;31mFileNotFoundError\u001b[0m: [Errno 2] No such file or directory: '../data/housing.data'"
     ]
    }
   ],
   "source": [
    "with open(\"../data/housing.data\", \"r\") as f:\n",
    "    data = pd.read_csv(f, delimiter=\"\\s+\", header=None)\n",
    "data"
   ]
  },
  {
   "cell_type": "code",
   "execution_count": null,
   "metadata": {},
   "outputs": [],
   "source": [
    "X = torch.from_numpy(np.array(data)[:,:-1])\n",
    "Y = torch.from_numpy(np.array(data)[:,-1]).reshape(-1,1)\n",
    "\n",
    "# Split\n",
    "X_train, X_test = X[:int(len(X)*0.7)], X[int(len(X)*0.7):]\n",
    "Y_train, Y_test = Y[:int(len(Y)*0.7)], Y[int(len(Y)*0.7):]\n",
    "\n",
    "mse = MSE()\n",
    "\n",
    "eps1 = 1e-9"
   ]
  },
  {
   "cell_type": "markdown",
   "metadata": {},
   "source": [
    "### Jeu de données : MINIST"
   ]
  },
  {
   "cell_type": "code",
   "execution_count": 5,
   "metadata": {},
   "outputs": [
    {
     "name": "stdout",
     "output_type": "stream",
     "text": [
      "Downloading http://yann.lecun.com/exdb/mnist/train-images-idx3-ubyte.gz\n",
      "Downloading http://yann.lecun.com/exdb/mnist/train-labels-idx1-ubyte.gz\n",
      "Downloading http://yann.lecun.com/exdb/mnist/t10k-images-idx3-ubyte.gz\n",
      "Downloading http://yann.lecun.com/exdb/mnist/t10k-labels-idx1-ubyte.gz\n",
      "Processing...\n",
      "Done!\n",
      "torch.Size([60000, 1, 28, 28])\n",
      "torch.Size([60000, 10])\n"
     ]
    }
   ],
   "source": [
    "## une fois le dataset telecharge, mettre download=False !\n",
    "## Pour le test, train = False\n",
    "## transform permet de faire un preprocessing des donnees (ici ?)\n",
    "batch_size=60000\n",
    "nb_digits=10\n",
    "train_loader = torch.utils.data.DataLoader(datasets.MNIST('../data', train=True, download=True, transform=transforms.Compose([transforms.ToTensor(), transforms.Normalize((0.1307,),(0.3081,))])), batch_size=batch_size, shuffle=True) \n",
    "\n",
    "y_onehot = torch.FloatTensor(batch_size, nb_digits) \n",
    "\n",
    "for i,(data,target) in enumerate(train_loader):\n",
    "    #print(i,data.size(),data.type(),target.size(),\n",
    "    #   target.type())\n",
    "    # do something...\n",
    "    X = data\n",
    "    print(X.shape)\n",
    "\n",
    "\n",
    "    ## Encoding des labels en onehot\n",
    "    y_onehot.zero_()\n",
    "    y_onehot.scatter_(1, target.view(-1,1), 1)\n",
    "\n",
    "    print(y_onehot.shape)\n",
    "    break"
   ]
  },
  {
   "cell_type": "code",
   "execution_count": 6,
   "metadata": {},
   "outputs": [],
   "source": [
    "X = X.reshape(batch_size,28*28)\n",
    "y = y_onehot"
   ]
  },
  {
   "cell_type": "code",
   "execution_count": 7,
   "metadata": {},
   "outputs": [],
   "source": [
    "from sklearn.metrics import f1_score\n",
    "\n",
    "def one_vs_one(X, y, c1, c2, test_size=0.3):\n",
    "    X = torch.cat((X[y[:,c1] == 1], X[y[:,c2] == 1]))\n",
    "    y = torch.cat((y[y[:,c1] == 1], y[y[:,c2] == 1]))\n",
    "    inds = list(range(len(X)))\n",
    "    np.random.shuffle(inds)\n",
    "    sep = int(test_size * len(X))\n",
    "    return X[inds][:sep], X[inds][sep:], y[inds][:sep], y[inds][sep:]\n",
    "\n",
    "def one_vs_all(X, y, c, test_size=0.3):\n",
    "        X = torch.cat((X[y[:,c1] == 1], X[y[:,c2] == 1]))\n",
    "        y = torch.cat((y[y[:,c1] == 1], y[y[:,c2] == 1]))"
   ]
  },
  {
   "cell_type": "markdown",
   "metadata": {},
   "source": [
    "### Perceptron"
   ]
  },
  {
   "cell_type": "markdown",
   "metadata": {},
   "source": [
    "Batch"
   ]
  },
  {
   "cell_type": "code",
   "execution_count": 8,
   "metadata": {},
   "outputs": [
    {
     "data": {
      "image/png": "[encoded data removed]",
      "text/plain": [
       "<Figure size 432x288 with 1 Axes>"
      ]
     },
     "metadata": {},
     "output_type": "display_data"
    }
   ],
   "source": [
    "X_train, X_test, y_train, y_test = one_vs_one(X, y, 3, 5)\n",
    "\n",
    "nn = nnet.NeuralNetwork(loss=ls.Hinge())\n",
    "nn.add_layer( mdl.ModuleLinear(len(X[0]), 10) )\n",
    "costs = nn.fit(X_train, y_train)\n",
    "\n",
    "plt.plot(range(len(costs)), costs)\n",
    "plt.show()"
   ]
  },
  {
   "cell_type": "markdown",
   "metadata": {},
   "source": [
    "Stochastique"
   ]
  },
  {
   "cell_type": "code",
   "execution_count": 9,
   "metadata": {},
   "outputs": [
    {
     "data": {
      "image/png": "[encoded data removed]",
      "text/plain": [
       "<Figure size 432x288 with 1 Axes>"
      ]
     },
     "metadata": {},
     "output_type": "display_data"
    }
   ],
   "source": [
    "nn = nnet.NeuralNetwork(loss=ls.Hinge())\n",
    "nn.add_layer( mdl.ModuleLinear(len(X[0]), 10) )\n",
    "costs = nn.fit(X_train, y_train, mode=\"stoch\")\n",
    "\n",
    "plt.plot(range(len(costs)), costs)\n",
    "plt.show()"
   ]
  },
  {
   "cell_type": "markdown",
   "metadata": {},
   "source": [
    "### Régression logistique"
   ]
  },
  {
   "cell_type": "code",
   "execution_count": 10,
   "metadata": {},
   "outputs": [
    {
     "data": {
      "image/png": "[encoded data removed]",
      "text/plain": [
       "<Figure size 432x288 with 1 Axes>"
      ]
     },
     "metadata": {},
     "output_type": "display_data"
    }
   ],
   "source": [
    "X_train, X_test, y_train, y_test = one_vs_one(X, y, 5, 7)\n",
    "\n",
    "nn = nnet.NeuralNetwork(loss=ls.MSE())\n",
    "nn.add_layer( [mdl.ModuleLinear(len(X[0]), 10), mdl.ActivationFunction(sigmoid, sigmoid_g)])\n",
    "costs = nn.fit(X_train, y_train, mode='batch')\n",
    "\n",
    "plt.plot(range(len(costs)), costs)\n",
    "plt.show()"
   ]
  },
  {
   "cell_type": "code",
   "execution_count": 12,
   "metadata": {},
   "outputs": [
    {
     "data": {
      "image/png": "[encoded data removed]",
      "text/plain": [
       "<Figure size 432x288 with 1 Axes>"
      ]
     },
     "metadata": {},
     "output_type": "display_data"
    }
   ],
   "source": [
    "nn = nnet.NeuralNetwork(loss=ls.MSE())\n",
    "nn.add_layer( [mdl.ModuleLinear(len(X[0]), 10), mdl.ActivationFunction(sigmoid, sigmoid_g)] )\n",
    "costs = nn.fit(X_train, y_train, mode='stoch', epsilon=1e-1)\n",
    "\n",
    "plt.plot(range(len(costs)), costs)\n",
    "plt.show()"
   ]
  },
  {
   "cell_type": "code",
   "execution_count": 13,
   "metadata": {},
   "outputs": [
    {
     "ename": "NameError",
     "evalue": "name 'batch_size' is not defined",
     "output_type": "error",
     "traceback": [
      "\u001b[1;31m---------------------------------------------------------------------------\u001b[0m",
      "\u001b[1;31mNameError\u001b[0m                                 Traceback (most recent call last)",
      "\u001b[1;32m<ipython-input-13-ede1ad6ccbad>\u001b[0m in \u001b[0;36m<module>\u001b[1;34m()\u001b[0m\n\u001b[0;32m      1\u001b[0m \u001b[0mnn\u001b[0m \u001b[1;33m=\u001b[0m \u001b[0mnnet\u001b[0m\u001b[1;33m.\u001b[0m\u001b[0mNeuralNetwork\u001b[0m\u001b[1;33m(\u001b[0m\u001b[0mloss\u001b[0m\u001b[1;33m=\u001b[0m\u001b[0mls\u001b[0m\u001b[1;33m.\u001b[0m\u001b[0mMSE\u001b[0m\u001b[1;33m(\u001b[0m\u001b[1;33m)\u001b[0m\u001b[1;33m)\u001b[0m\u001b[1;33m\u001b[0m\u001b[0m\n\u001b[0;32m      2\u001b[0m \u001b[0mnn\u001b[0m\u001b[1;33m.\u001b[0m\u001b[0madd_layer\u001b[0m\u001b[1;33m(\u001b[0m \u001b[1;33m[\u001b[0m\u001b[0mmdl\u001b[0m\u001b[1;33m.\u001b[0m\u001b[0mModuleLinear\u001b[0m\u001b[1;33m(\u001b[0m\u001b[0mlen\u001b[0m\u001b[1;33m(\u001b[0m\u001b[0mX\u001b[0m\u001b[1;33m[\u001b[0m\u001b[1;36m0\u001b[0m\u001b[1;33m]\u001b[0m\u001b[1;33m)\u001b[0m\u001b[1;33m,\u001b[0m \u001b[1;36m10\u001b[0m\u001b[1;33m)\u001b[0m\u001b[1;33m,\u001b[0m \u001b[0mmdl\u001b[0m\u001b[1;33m.\u001b[0m\u001b[0mActivationFunction\u001b[0m\u001b[1;33m(\u001b[0m\u001b[0msigmoid\u001b[0m\u001b[1;33m,\u001b[0m \u001b[0msigmoid_g\u001b[0m\u001b[1;33m)\u001b[0m\u001b[1;33m]\u001b[0m \u001b[1;33m)\u001b[0m\u001b[1;33m\u001b[0m\u001b[0m\n\u001b[1;32m----> 3\u001b[1;33m \u001b[0mcosts\u001b[0m \u001b[1;33m=\u001b[0m \u001b[0mnn\u001b[0m\u001b[1;33m.\u001b[0m\u001b[0mfit\u001b[0m\u001b[1;33m(\u001b[0m\u001b[0mX_train\u001b[0m\u001b[1;33m,\u001b[0m \u001b[0my_train\u001b[0m\u001b[1;33m,\u001b[0m \u001b[0mmode\u001b[0m\u001b[1;33m=\u001b[0m\u001b[1;34m'mini_batch'\u001b[0m\u001b[1;33m)\u001b[0m\u001b[1;33m\u001b[0m\u001b[0m\n\u001b[0m\u001b[0;32m      4\u001b[0m \u001b[1;33m\u001b[0m\u001b[0m\n\u001b[0;32m      5\u001b[0m \u001b[0mplt\u001b[0m\u001b[1;33m.\u001b[0m\u001b[0mplot\u001b[0m\u001b[1;33m(\u001b[0m\u001b[0mrange\u001b[0m\u001b[1;33m(\u001b[0m\u001b[0mlen\u001b[0m\u001b[1;33m(\u001b[0m\u001b[0mcosts\u001b[0m\u001b[1;33m)\u001b[0m\u001b[1;33m)\u001b[0m\u001b[1;33m,\u001b[0m \u001b[0mcosts\u001b[0m\u001b[1;33m)\u001b[0m\u001b[1;33m\u001b[0m\u001b[0m\n",
      "\u001b[1;32m~\\Dropbox\\ecole_ing\\DAC\\AS\\AS-TME1\\neuronalNetwork.py\u001b[0m in \u001b[0;36mfit\u001b[1;34m(self, X, y, mode, max_iter, epsilon)\u001b[0m\n\u001b[0;32m     54\u001b[0m                 \u001b[0mnp\u001b[0m\u001b[1;33m.\u001b[0m\u001b[0mrandom\u001b[0m\u001b[1;33m.\u001b[0m\u001b[0mshuffle\u001b[0m\u001b[1;33m(\u001b[0m\u001b[0minds\u001b[0m\u001b[1;33m)\u001b[0m\u001b[1;33m\u001b[0m\u001b[0m\n\u001b[0;32m     55\u001b[0m                 \u001b[0mX\u001b[0m\u001b[1;33m,\u001b[0m \u001b[0my\u001b[0m \u001b[1;33m=\u001b[0m \u001b[0mX\u001b[0m\u001b[1;33m[\u001b[0m\u001b[0minds\u001b[0m\u001b[1;33m]\u001b[0m\u001b[1;33m,\u001b[0m \u001b[0my\u001b[0m\u001b[1;33m[\u001b[0m\u001b[0minds\u001b[0m\u001b[1;33m]\u001b[0m\u001b[1;33m\u001b[0m\u001b[0m\n\u001b[1;32m---> 56\u001b[1;33m                 \u001b[1;32mfor\u001b[0m \u001b[0mi\u001b[0m \u001b[1;32min\u001b[0m \u001b[0mrange\u001b[0m\u001b[1;33m(\u001b[0m\u001b[1;36m0\u001b[0m\u001b[1;33m,\u001b[0m \u001b[0mlen\u001b[0m\u001b[1;33m(\u001b[0m\u001b[0mX\u001b[0m\u001b[1;33m)\u001b[0m\u001b[1;33m,\u001b[0m \u001b[0mbatch_size\u001b[0m\u001b[1;33m)\u001b[0m\u001b[1;33m:\u001b[0m\u001b[1;33m\u001b[0m\u001b[0m\n\u001b[0m\u001b[0;32m     57\u001b[0m                     \u001b[0mxi\u001b[0m\u001b[1;33m,\u001b[0m \u001b[0myi\u001b[0m \u001b[1;33m=\u001b[0m \u001b[0mX\u001b[0m\u001b[1;33m[\u001b[0m\u001b[0mi\u001b[0m\u001b[1;33m:\u001b[0m\u001b[0mi\u001b[0m \u001b[1;33m+\u001b[0m \u001b[0mbatch_size\u001b[0m\u001b[1;33m]\u001b[0m\u001b[1;33m,\u001b[0m \u001b[0my\u001b[0m\u001b[1;33m[\u001b[0m\u001b[0mi\u001b[0m\u001b[1;33m:\u001b[0m\u001b[0mi\u001b[0m \u001b[1;33m+\u001b[0m \u001b[0mbatch_size\u001b[0m\u001b[1;33m]\u001b[0m\u001b[1;33m\u001b[0m\u001b[0m\n\u001b[0;32m     58\u001b[0m                     \u001b[0mcosts\u001b[0m\u001b[1;33m.\u001b[0m\u001b[0mappend\u001b[0m\u001b[1;33m(\u001b[0m\u001b[0mself\u001b[0m\u001b[1;33m.\u001b[0m\u001b[0mbackward\u001b[0m\u001b[1;33m(\u001b[0m\u001b[0mxi\u001b[0m\u001b[1;33m,\u001b[0m \u001b[0myi\u001b[0m\u001b[1;33m,\u001b[0m \u001b[0mepsilon\u001b[0m\u001b[1;33m=\u001b[0m\u001b[0mepsilon\u001b[0m\u001b[1;33m)\u001b[0m\u001b[1;33m)\u001b[0m\u001b[1;33m\u001b[0m\u001b[0m\n",
      "\u001b[1;31mNameError\u001b[0m: name 'batch_size' is not defined"
     ]
    }
   ],
   "source": [
    "nn = nnet.NeuralNetwork(loss=ls.MSE())\n",
    "nn.add_layer( [mdl.ModuleLinear(len(X[0]), 10), mdl.ActivationFunction(sigmoid, sigmoid_g)] )\n",
    "costs = nn.fit(X_train, y_train, mode='mini_batch')\n",
    "\n",
    "plt.plot(range(len(costs)), costs)\n",
    "plt.show()"
   ]
  },
  {
   "cell_type": "markdown",
   "metadata": {},
   "source": [
    "----"
   ]
  },
  {
   "cell_type": "code",
   "execution_count": 15,
   "metadata": {},
   "outputs": [
    {
     "data": {
      "image/png": "[encoded data removed]",
      "text/plain": [
       "<Figure size 432x288 with 1 Axes>"
      ]
     },
     "metadata": {},
     "output_type": "display_data"
    }
   ],
   "source": [
    "X_train, X_test, y_train, y_test = one_vs_one(X, y, 3, 5)\n",
    "\n",
    "nn = nnet.NeuralNetwork(loss=ls.MSE())\n",
    "\n",
    "model1 = mdl.ModuleLinear(len(X[0]), 15)\n",
    "activ1 = mdl.ActivationFunction(tanh, tanh_g)\n",
    "model2 = mdl.ModuleLinear(15, 10)\n",
    "activ2 = mdl.ActivationFunction(sigmoid, sigmoid_g)\n",
    "\n",
    "nn.add_layer([model1, activ1, model2, activ2])\n",
    "\n",
    "costs = nn.fit(X_train, y_train)\n",
    "#print(rnn.score(X, Y))\n",
    "\n",
    "plt.plot(range(len(costs)), costs)\n",
    "plt.show()\n",
    "\n",
    "#print(\"Score :\", f1_score( nn.forward(X_test), y_test ))"
   ]
  },
  {
   "cell_type": "code",
   "execution_count": 16,
   "metadata": {},
   "outputs": [
    {
     "data": {
      "image/png": "[encoded data removed]",
      "text/plain": [
       "<Figure size 432x288 with 1 Axes>"
      ]
     },
     "metadata": {},
     "output_type": "display_data"
    }
   ],
   "source": [
    "X_train, X_test, y_train, y_test = one_vs_one(X, y, 0, 8)\n",
    "\n",
    "nn = nnet.NeuralNetwork(loss=ls.MSE())\n",
    "\n",
    "model1 = mdl.ModuleLinear(len(X[0]), 15)\n",
    "activ1 = mdl.ActivationFunction(tanh, tanh_g)\n",
    "model2 = mdl.ModuleLinear(15, 10)\n",
    "activ2 = mdl.ActivationFunction(sigmoid, sigmoid_g)\n",
    "\n",
    "nn.add_layer([model1, activ1, model2, activ2])\n",
    "\n",
    "costs = nn.fit(X_train, y_train, mode='stoch', epsilon=1e-1)\n",
    "#print(rnn.score(X, Y))\n",
    "\n",
    "plt.plot(range(len(costs)), costs)\n",
    "plt.show()\n",
    "\n",
    "#print(\"Score :\", f1_score( nn.forward(X_test), y_test ))"
   ]
  },
  {
   "cell_type": "code",
   "execution_count": 65,
   "metadata": {},
   "outputs": [
    {
     "data": {
      "image/png": "[encoded data removed]",
      "text/plain": [
       "<Figure size 432x288 with 1 Axes>"
      ]
     },
     "metadata": {},
     "output_type": "display_data"
    }
   ],
   "source": [
    "X_train, X_test, y_train, y_test = one_vs_one(X, y, 0, 8)\n",
    "\n",
    "nn = nnet.NeuralNetwork(loss=ls.MSE())\n",
    "\n",
    "model1 = mdl.ModuleLinear(len(X[0]), 15)\n",
    "activ1 = mdl.ActivationFunction(tanh, tanh_g)\n",
    "model2 = mdl.ModuleLinear(15, 10)\n",
    "activ2 = mdl.ActivationFunction(sigmoid, sigmoid_g)\n",
    "\n",
    "nn.add_layer([model1, activ1, model2, activ2])\n",
    "\n",
    "costs = nn.fit(X_train, y_train, mode='mini_batch', epsilon=1e-3)\n",
    "#print(rnn.score(X, Y))\n",
    "\n",
    "plt.plot(range(len(costs)), costs)\n",
    "plt.show()\n",
    "\n",
    "#print(\"Score :\", f1_score( nn.forward(X_test), y_test ))"
   ]
  },
  {
   "cell_type": "code",
   "execution_count": null,
   "metadata": {},
   "outputs": [],
   "source": []
  },
  {
   "cell_type": "code",
   "execution_count": null,
   "metadata": {},
   "outputs": [],
   "source": []
  },
  {
   "cell_type": "code",
   "execution_count": null,
   "metadata": {},
   "outputs": [],
   "source": []
  },
  {
   "cell_type": "code",
   "execution_count": null,
   "metadata": {},
   "outputs": [],
   "source": []
  },
  {
   "cell_type": "code",
   "execution_count": null,
   "metadata": {},
   "outputs": [],
   "source": []
  },
  {
   "cell_type": "code",
   "execution_count": null,
   "metadata": {},
   "outputs": [],
   "source": []
  }
 ],
 "metadata": {
  "kernelspec": {
   "display_name": "Python 3",
   "language": "python",
   "name": "python3"
  },
  "language_info": {
   "codemirror_mode": {
    "name": "ipython",
    "version": 3
   },
   "file_extension": ".py",
   "mimetype": "text/x-python",
   "name": "python",
   "nbconvert_exporter": "python",
   "pygments_lexer": "ipython3",
   "version": "3.6.5"
  }
 },
 "nbformat": 4,
 "nbformat_minor": 2
}
