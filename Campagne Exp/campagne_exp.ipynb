{
 "cells": [
  {
   "cell_type": "markdown",
   "metadata": {},
   "source": [
    "# AS - Campagne expérimentale\n",
    "\n",
    "2018 - 2019\n",
    "\n",
    "\n",
    "Binome : Juliette ORTHOLAND, Stieban FERNANDEZ\n",
    "\n",
    "----"
   ]
  },
  {
   "cell_type": "code",
   "execution_count": 1,
   "metadata": {},
   "outputs": [],
   "source": [
    "import torch\n",
    "from test import *\n",
    "\n",
    "# CUDA pytorch\n",
    "dtype = torch.cuda.FloatTensor\n",
    "if torch.cuda.is_available():\n",
    "    CUDA = True\n",
    "    dtype = torch.cuda.FloatTensor\n",
    "    # preciser chaque tensor et activer cuda pour chaque modele\n",
    "    # A revoir\n",
    "    \n",
    "from torch.nn import Linear\n",
    "from torch.nn import Sequential\n",
    "\n",
    "from torch.nn import MSELoss\n",
    "from torch.nn import CrossEntropyLoss"
   ]
  },
  {
   "cell_type": "markdown",
   "metadata": {},
   "source": [
    "## Jeu de données : MNIST"
   ]
  },
  {
   "cell_type": "code",
   "execution_count": 2,
   "metadata": {},
   "outputs": [],
   "source": [
    "path = '../data'\n",
    "batch_size = 6000\n",
    "\n",
    "train_loader, test_loader = get_dataset(batch_size, path)"
   ]
  },
  {
   "cell_type": "code",
   "execution_count": 3,
   "metadata": {},
   "outputs": [
    {
     "name": "stdout",
     "output_type": "stream",
     "text": [
      "torch.Size([6000, 1, 28, 28]) torch.Size([6000])\n"
     ]
    }
   ],
   "source": [
    "for i, (data, target) in enumerate(train_loader):\n",
    "    print(data.shape, target.shape)\n",
    "    break"
   ]
  },
  {
   "cell_type": "code",
   "execution_count": 4,
   "metadata": {},
   "outputs": [],
   "source": [
    "dim = 28*28"
   ]
  },
  {
   "cell_type": "markdown",
   "metadata": {},
   "source": [
    "## Tests préliminaires"
   ]
  },
  {
   "cell_type": "markdown",
   "metadata": {},
   "source": [
    "### Perceptron"
   ]
  },
  {
   "cell_type": "code",
   "execution_count": 5,
   "metadata": {},
   "outputs": [
    {
     "name": "stderr",
     "output_type": "stream",
     "text": [
      "100%|████████████████████████████████████████| 100/100 [15:17<00:00,  8.75s/it]\n"
     ]
    },
    {
     "ename": "TypeError",
     "evalue": "plot_CS() missing 2 required positional arguments: 'costsV' and 'scoresV'",
     "output_type": "error",
     "traceback": [
      "\u001b[1;31m---------------------------------------------------------------------------\u001b[0m",
      "\u001b[1;31mTypeError\u001b[0m                                 Traceback (most recent call last)",
      "\u001b[1;32m<ipython-input-5-bd4635355197>\u001b[0m in \u001b[0;36m<module>\u001b[1;34m()\u001b[0m\n\u001b[0;32m      6\u001b[0m \u001b[0mnn\u001b[0m \u001b[1;33m=\u001b[0m \u001b[0mNeuralNetwork\u001b[0m\u001b[1;33m(\u001b[0m\u001b[0mmodel\u001b[0m\u001b[1;33m,\u001b[0m \u001b[0mloss\u001b[0m\u001b[1;33m,\u001b[0m \u001b[0moptim\u001b[0m\u001b[1;33m)\u001b[0m\u001b[1;33m\u001b[0m\u001b[0m\n\u001b[0;32m      7\u001b[0m \u001b[0mtmp\u001b[0m \u001b[1;33m=\u001b[0m \u001b[0mnn\u001b[0m\u001b[1;33m.\u001b[0m\u001b[0mfit_eval\u001b[0m\u001b[1;33m(\u001b[0m\u001b[0mtrain_loader\u001b[0m\u001b[1;33m,\u001b[0m \u001b[0mtest_loader\u001b[0m\u001b[1;33m,\u001b[0m \u001b[0mn_epochs\u001b[0m\u001b[1;33m=\u001b[0m\u001b[1;36m100\u001b[0m\u001b[1;33m)\u001b[0m\u001b[1;33m\u001b[0m\u001b[0m\n\u001b[1;32m----> 8\u001b[1;33m \u001b[0mplot_CS\u001b[0m\u001b[1;33m(\u001b[0m\u001b[1;33m*\u001b[0m\u001b[0mtmp\u001b[0m\u001b[1;33m)\u001b[0m\u001b[1;33m\u001b[0m\u001b[0m\n\u001b[0m",
      "\u001b[1;31mTypeError\u001b[0m: plot_CS() missing 2 required positional arguments: 'costsV' and 'scoresV'"
     ]
    }
   ],
   "source": [
    "model = Linear( dim, 10 )\n",
    "loss = CrossEntropyLoss()\n",
    "lr = 1e-4\n",
    "optim = torch.optim.Adam(model.parameters(), lr)\n",
    "\n",
    "nn = NeuralNetwork(model, loss, optim)\n",
    "tmp = nn.fit_eval(train_loader, test_loader, n_epochs=100)\n",
    "plot_CS(*tmp)"
   ]
  },
  {
   "cell_type": "code",
   "execution_count": 7,
   "metadata": {},
   "outputs": [
    {
     "data": {
      "image/png": "[encoded data removed]",
      "text/plain": [
       "<Figure size 432x288 with 1 Axes>"
      ]
     },
     "metadata": {},
     "output_type": "display_data"
    }
   ],
   "source": [
    "plt.plot(tmp[0])\n",
    "plt.plot(tmp[1])\n",
    "plt.show()"
   ]
  },
  {
   "cell_type": "markdown",
   "metadata": {},
   "source": [
    "### Régression logistique"
   ]
  },
  {
   "cell_type": "code",
   "execution_count": null,
   "metadata": {},
   "outputs": [],
   "source": [
    "model = Sequential(\n",
    "    Linear( dim, 10 ),\n",
    "    torch.nn.Sigmoid()\n",
    ")\n",
    "loss = CrossEntropyLoss()\n",
    "lr = 1e-4\n",
    "optim = torch.optim.Adam(model.parameters(), lr)\n",
    "\n",
    "nn = NeuralNetwork(model, loss, optim)\n",
    "tmp = nn.fit_eval(train_loader, test_loader, n_epochs=100)\n",
    "plot_CS(*tmp)"
   ]
  },
  {
   "cell_type": "markdown",
   "metadata": {},
   "source": [
    "### First NN - Tanh + Sigmoid"
   ]
  },
  {
   "cell_type": "code",
   "execution_count": null,
   "metadata": {},
   "outputs": [],
   "source": [
    "model = Sequential(\n",
    "    Linear( dim, 15 ),\n",
    "    torch.nn.Tanh(),\n",
    "    Linear( 15, 10 ),\n",
    "    torch.nn.Sigmoid\n",
    ")\n",
    "loss = CrossEntropyLoss()\n",
    "lr = 1e-4\n",
    "optim = torch.optim.Adam(model.parameters(), lr)\n",
    "\n",
    "nn = NeuralNetwork(model, loss, optim)\n",
    "tmp = nn.fit_eval(train_loader, test_loader, n_epochs=100)\n",
    "plot_CS(*tmp)"
   ]
  },
  {
   "cell_type": "markdown",
   "metadata": {},
   "source": [
    "### NN - 2 hidden layers"
   ]
  },
  {
   "cell_type": "code",
   "execution_count": null,
   "metadata": {},
   "outputs": [],
   "source": [
    "model = Sequential(\n",
    "    Linear( dim, 15 ),\n",
    "    torch.nn.Tanh(),\n",
    "    Linear( 15, 10 ),\n",
    "    torch.nn.Sigmoid\n",
    ")\n",
    "loss = CrossEntropyLoss()\n",
    "lr = 1e-4\n",
    "optim = torch.optim.Adam(model.parameters(), lr)\n",
    "\n",
    "nn = NeuralNetwork(model, loss, optim)\n",
    "tmp = nn.fit_eval(train_loader, test_loader, n_epochs=100)\n",
    "plot_CS(*tmp)"
   ]
  },
  {
   "cell_type": "markdown",
   "metadata": {},
   "source": [
    "### Highway"
   ]
  },
  {
   "cell_type": "code",
   "execution_count": null,
   "metadata": {},
   "outputs": [],
   "source": [
    "model = Sequential(\n",
    "    Linear( dim, 10 ),\n",
    "    HighwayModel(10),\n",
    "    HighwayModel(10)\n",
    ")\n",
    "loss = CrossEntropyLoss()\n",
    "lr = 1e-4\n",
    "optim = torch.optim.Adam(model.parameters(), lr)\n",
    "\n",
    "nn = NeuralNetwork(model, loss, optim)\n",
    "tmp = nn.fit_eval(train_loader, test_loader, n_epochs=100)\n",
    "plot_CS(*tmp)"
   ]
  }
 ],
 "metadata": {
  "kernelspec": {
   "display_name": "Python 3",
   "language": "python",
   "name": "python3"
  },
  "language_info": {
   "codemirror_mode": {
    "name": "ipython",
    "version": 3
   },
   "file_extension": ".py",
   "mimetype": "text/x-python",
   "name": "python",
   "nbconvert_exporter": "python",
   "pygments_lexer": "ipython3",
   "version": "3.6.5"
  }
 },
 "nbformat": 4,
 "nbformat_minor": 2
}
