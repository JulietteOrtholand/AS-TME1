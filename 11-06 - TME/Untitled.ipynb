{
 "cells": [
  {
   "cell_type": "code",
   "execution_count": 3,
   "metadata": {},
   "outputs": [
    {
     "name": "stdout",
     "output_type": "stream",
     "text": [
      "The autoreload extension is already loaded. To reload it, use:\n",
      "  %reload_ext autoreload\n"
     ]
    },
    {
     "ename": "ModuleNotFoundError",
     "evalue": "No module named 'torchtext'",
     "output_type": "error",
     "traceback": [
      "\u001b[1;31m---------------------------------------------------------------------------\u001b[0m",
      "\u001b[1;31mModuleNotFoundError\u001b[0m                       Traceback (most recent call last)",
      "\u001b[1;32m<ipython-input-3-820c850fc991>\u001b[0m in \u001b[0;36m<module>\u001b[1;34m()\u001b[0m\n\u001b[0;32m      6\u001b[0m \u001b[1;33m\u001b[0m\u001b[0m\n\u001b[0;32m      7\u001b[0m \u001b[1;32mimport\u001b[0m \u001b[0mlogging\u001b[0m\u001b[1;33m\u001b[0m\u001b[0m\n\u001b[1;32m----> 8\u001b[1;33m \u001b[1;32mimport\u001b[0m \u001b[0mtorchtext\u001b[0m\u001b[1;33m.\u001b[0m\u001b[0mdatasets\u001b[0m \u001b[1;32mas\u001b[0m \u001b[0mdatasets\u001b[0m\u001b[1;33m\u001b[0m\u001b[0m\n\u001b[0m\u001b[0;32m      9\u001b[0m \u001b[1;32mimport\u001b[0m \u001b[0mtorchtext\u001b[0m\u001b[1;33m.\u001b[0m\u001b[0mdata\u001b[0m \u001b[1;32mas\u001b[0m \u001b[0mdata\u001b[0m\u001b[1;33m\u001b[0m\u001b[0m\n\u001b[0;32m     10\u001b[0m \u001b[1;32mimport\u001b[0m \u001b[0mtorchtext\u001b[0m\u001b[1;33m\u001b[0m\u001b[0m\n",
      "\u001b[1;31mModuleNotFoundError\u001b[0m: No module named 'torchtext'"
     ]
    }
   ],
   "source": [
    "%load_ext autoreload\n",
    "%autoreload 2\n",
    "\n",
    "#tensorboard --logdin = nums \n",
    "#from TensorboardX import SummaryWriter\n",
    "\n",
    "import logging\n",
    "import torchtext.datasets as datasets\n",
    "import torchtext.data as data\n",
    "import torchtext\n",
    "import torch.nn as nn\n"
   ]
  },
  {
   "cell_type": "code",
   "execution_count": null,
   "metadata": {},
   "outputs": [],
   "source": [
    "DATA_DIR=\"/users/Enseignants/baskiotis/AS\"\n",
    "\n",
    "DATASET_DIR=\"%s/data\" % DATA_DIR\n",
    "VECTORS_DIR=\"%s/vectors\" % DATA_DIR\n",
    "\n",
    "# text\n",
    "TEXT=data.Field(lower=True,include_lengths=False,batch_first=True)\n",
    "LABEL = data.Field(sequential=False, is_target=True)\n",
    "\n",
    "# make splits for data\n",
    "train, val, test = datasets.sst.SST.splits(TEXT, LABEL,root=DATASET_DIR)\n",
    "\n",
    "# Use the vocabulary\n",
    "wordemb = torchtext.vocab.GloVe(\"6B\", dim=100, cache=VECTORS_DIR)\n",
    "# Build the vocabularies\n",
    "# for labels, we use special_first to False so <unk> is last\n",
    "# (to discard it)\n",
    "TEXT.build_vocab(train, vectors=wordemb)\n",
    "LABEL.build_vocab(train, specials_first=False)\n",
    "train_iter, val_iter, test_iter = data.BucketIterator.splits(\n",
    "(train, val, test), batch_size=10, device=0)\n",
    "\n",
    "nn_embeddings = nn.Embedding.from_pretrained(TEXT.vocab.vectors)\n",
    " "
   ]
  }
 ],
 "metadata": {
  "kernelspec": {
   "display_name": "Python 3",
   "language": "python",
   "name": "python3"
  },
  "language_info": {
   "codemirror_mode": {
    "name": "ipython",
    "version": 3
   },
   "file_extension": ".py",
   "mimetype": "text/x-python",
   "name": "python",
   "nbconvert_exporter": "python",
   "pygments_lexer": "ipython3",
   "version": "3.6.5"
  }
 },
 "nbformat": 4,
 "nbformat_minor": 2
}
